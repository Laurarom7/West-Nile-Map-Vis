{
 "cells": [
  {
   "cell_type": "markdown",
   "metadata": {},
   "source": [
    "### West Nile Virus Predictions\n",
    "Team members: Mike Thisyamondal, Rajan Mamtani, Steven Trojanowski, Laura Roman\n",
    "<br>Modeling working attributed to Mike and Steve "
   ]
  },
  {
   "cell_type": "markdown",
   "metadata": {},
   "source": [
    "The goal of this project is to attempt to predict future outbreakes of West Nile Virus (WNV) in Chiago. This is based on this project from [kaggle](https://www.kaggle.com/c/predict-west-nile-virus/). To accomplish this task we have data from the years 2007, 2009, 2011, and 2013. This ineluded weather and times the city would spray for mosquitoes. This post will take us through the project and our conclusions."
   ]
  },
  {
   "cell_type": "markdown",
   "metadata": {},
   "source": [
    "First thing is to import the standard packages we will be using. There will be more but this is a good start."
   ]
  },
  {
   "cell_type": "code",
   "execution_count": 1,
   "metadata": {},
   "outputs": [],
   "source": [
    "import pandas as pd\n",
    "import numpy as np\n",
    "import matplotlib.pyplot as plt\n",
    "%matplotlib inline"
   ]
  },
  {
   "cell_type": "code",
   "execution_count": null,
   "metadata": {},
   "outputs": [],
   "source": [
    "#This sends warning messages to the cornfield\n",
    "\n",
    "import warnings\n",
    "def ignore_warnings(*args, **kwargs):\n",
    "    pass\n",
    "warnings.warn = ignore_warnings"
   ]
  },
  {
   "cell_type": "markdown",
   "metadata": {},
   "source": [
    "Read in the csv files that contain the data. "
   ]
  },
  {
   "cell_type": "code",
   "execution_count": 2,
   "metadata": {},
   "outputs": [],
   "source": [
    "spray = pd.read_csv(\"./all/spray.csv\")\n",
    "weather = pd.read_csv(\"./all/weather.csv\")\n",
    "train = pd.read_csv(\"./all/train.csv\")\n",
    "test = pd.read_csv(\"./all/test.csv\")"
   ]
  },
  {
   "cell_type": "markdown",
   "metadata": {},
   "source": [
    "#### EDA"
   ]
  },
  {
   "cell_type": "markdown",
   "metadata": {},
   "source": [
    "Spray Dataset"
   ]
  },
  {
   "cell_type": "code",
   "execution_count": 3,
   "metadata": {},
   "outputs": [
    {
     "data": {
      "text/html": [
       "<div>\n",
       "<style scoped>\n",
       "    .dataframe tbody tr th:only-of-type {\n",
       "        vertical-align: middle;\n",
       "    }\n",
       "\n",
       "    .dataframe tbody tr th {\n",
       "        vertical-align: top;\n",
       "    }\n",
       "\n",
       "    .dataframe thead th {\n",
       "        text-align: right;\n",
       "    }\n",
       "</style>\n",
       "<table border=\"1\" class=\"dataframe\">\n",
       "  <thead>\n",
       "    <tr style=\"text-align: right;\">\n",
       "      <th></th>\n",
       "      <th>Date</th>\n",
       "      <th>Time</th>\n",
       "      <th>Latitude</th>\n",
       "      <th>Longitude</th>\n",
       "    </tr>\n",
       "  </thead>\n",
       "  <tbody>\n",
       "    <tr>\n",
       "      <th>0</th>\n",
       "      <td>2011-08-29</td>\n",
       "      <td>6:56:58 PM</td>\n",
       "      <td>42.391623</td>\n",
       "      <td>-88.089163</td>\n",
       "    </tr>\n",
       "    <tr>\n",
       "      <th>1</th>\n",
       "      <td>2011-08-29</td>\n",
       "      <td>6:57:08 PM</td>\n",
       "      <td>42.391348</td>\n",
       "      <td>-88.089163</td>\n",
       "    </tr>\n",
       "    <tr>\n",
       "      <th>2</th>\n",
       "      <td>2011-08-29</td>\n",
       "      <td>6:57:18 PM</td>\n",
       "      <td>42.391022</td>\n",
       "      <td>-88.089157</td>\n",
       "    </tr>\n",
       "    <tr>\n",
       "      <th>3</th>\n",
       "      <td>2011-08-29</td>\n",
       "      <td>6:57:28 PM</td>\n",
       "      <td>42.390637</td>\n",
       "      <td>-88.089158</td>\n",
       "    </tr>\n",
       "    <tr>\n",
       "      <th>4</th>\n",
       "      <td>2011-08-29</td>\n",
       "      <td>6:57:38 PM</td>\n",
       "      <td>42.390410</td>\n",
       "      <td>-88.088858</td>\n",
       "    </tr>\n",
       "  </tbody>\n",
       "</table>\n",
       "</div>"
      ],
      "text/plain": [
       "         Date        Time   Latitude  Longitude\n",
       "0  2011-08-29  6:56:58 PM  42.391623 -88.089163\n",
       "1  2011-08-29  6:57:08 PM  42.391348 -88.089163\n",
       "2  2011-08-29  6:57:18 PM  42.391022 -88.089157\n",
       "3  2011-08-29  6:57:28 PM  42.390637 -88.089158\n",
       "4  2011-08-29  6:57:38 PM  42.390410 -88.088858"
      ]
     },
     "execution_count": 3,
     "metadata": {},
     "output_type": "execute_result"
    }
   ],
   "source": [
    "spray.head()"
   ]
  },
  {
   "cell_type": "code",
   "execution_count": 4,
   "metadata": {},
   "outputs": [
    {
     "data": {
      "text/plain": [
       "(14835, 4)"
      ]
     },
     "execution_count": 4,
     "metadata": {},
     "output_type": "execute_result"
    }
   ],
   "source": [
    "spray.shape"
   ]
  },
  {
   "cell_type": "code",
   "execution_count": 5,
   "metadata": {},
   "outputs": [
    {
     "data": {
      "text/plain": [
       "Date          object\n",
       "Time          object\n",
       "Latitude     float64\n",
       "Longitude    float64\n",
       "dtype: object"
      ]
     },
     "execution_count": 5,
     "metadata": {},
     "output_type": "execute_result"
    }
   ],
   "source": [
    "spray.dtypes"
   ]
  },
  {
   "cell_type": "code",
   "execution_count": 6,
   "metadata": {},
   "outputs": [
    {
     "data": {
      "text/plain": [
       "Date           0\n",
       "Time         584\n",
       "Latitude       0\n",
       "Longitude      0\n",
       "dtype: int64"
      ]
     },
     "execution_count": 6,
     "metadata": {},
     "output_type": "execute_result"
    }
   ],
   "source": [
    "spray.isnull().sum()"
   ]
  },
  {
   "cell_type": "code",
   "execution_count": 7,
   "metadata": {},
   "outputs": [
    {
     "data": {
      "text/html": [
       "<div>\n",
       "<style scoped>\n",
       "    .dataframe tbody tr th:only-of-type {\n",
       "        vertical-align: middle;\n",
       "    }\n",
       "\n",
       "    .dataframe tbody tr th {\n",
       "        vertical-align: top;\n",
       "    }\n",
       "\n",
       "    .dataframe thead th {\n",
       "        text-align: right;\n",
       "    }\n",
       "</style>\n",
       "<table border=\"1\" class=\"dataframe\">\n",
       "  <thead>\n",
       "    <tr style=\"text-align: right;\">\n",
       "      <th></th>\n",
       "      <th>Date</th>\n",
       "      <th>Time</th>\n",
       "      <th>Latitude</th>\n",
       "      <th>Longitude</th>\n",
       "    </tr>\n",
       "  </thead>\n",
       "  <tbody>\n",
       "    <tr>\n",
       "      <th>1030</th>\n",
       "      <td>2011-09-07</td>\n",
       "      <td>NaN</td>\n",
       "      <td>41.987092</td>\n",
       "      <td>-87.794286</td>\n",
       "    </tr>\n",
       "    <tr>\n",
       "      <th>1031</th>\n",
       "      <td>2011-09-07</td>\n",
       "      <td>NaN</td>\n",
       "      <td>41.987620</td>\n",
       "      <td>-87.794382</td>\n",
       "    </tr>\n",
       "    <tr>\n",
       "      <th>1032</th>\n",
       "      <td>2011-09-07</td>\n",
       "      <td>NaN</td>\n",
       "      <td>41.988004</td>\n",
       "      <td>-87.794574</td>\n",
       "    </tr>\n",
       "    <tr>\n",
       "      <th>1033</th>\n",
       "      <td>2011-09-07</td>\n",
       "      <td>NaN</td>\n",
       "      <td>41.988292</td>\n",
       "      <td>-87.795486</td>\n",
       "    </tr>\n",
       "    <tr>\n",
       "      <th>1034</th>\n",
       "      <td>2011-09-07</td>\n",
       "      <td>NaN</td>\n",
       "      <td>41.988100</td>\n",
       "      <td>-87.796014</td>\n",
       "    </tr>\n",
       "  </tbody>\n",
       "</table>\n",
       "</div>"
      ],
      "text/plain": [
       "            Date Time   Latitude  Longitude\n",
       "1030  2011-09-07  NaN  41.987092 -87.794286\n",
       "1031  2011-09-07  NaN  41.987620 -87.794382\n",
       "1032  2011-09-07  NaN  41.988004 -87.794574\n",
       "1033  2011-09-07  NaN  41.988292 -87.795486\n",
       "1034  2011-09-07  NaN  41.988100 -87.796014"
      ]
     },
     "execution_count": 7,
     "metadata": {},
     "output_type": "execute_result"
    }
   ],
   "source": [
    "spray[spray[\"Time\"].isnull()].head()"
   ]
  },
  {
   "cell_type": "markdown",
   "metadata": {},
   "source": [
    "Observations:\n",
    "- Null values are from 1 date, 9/7/2011\n",
    "- Should potentially change date column into datetime object."
   ]
  },
  {
   "cell_type": "markdown",
   "metadata": {},
   "source": [
    "Weather Dataset"
   ]
  },
  {
   "cell_type": "code",
   "execution_count": 8,
   "metadata": {},
   "outputs": [
    {
     "data": {
      "text/html": [
       "<div>\n",
       "<style scoped>\n",
       "    .dataframe tbody tr th:only-of-type {\n",
       "        vertical-align: middle;\n",
       "    }\n",
       "\n",
       "    .dataframe tbody tr th {\n",
       "        vertical-align: top;\n",
       "    }\n",
       "\n",
       "    .dataframe thead th {\n",
       "        text-align: right;\n",
       "    }\n",
       "</style>\n",
       "<table border=\"1\" class=\"dataframe\">\n",
       "  <thead>\n",
       "    <tr style=\"text-align: right;\">\n",
       "      <th></th>\n",
       "      <th>Station</th>\n",
       "      <th>Date</th>\n",
       "      <th>Tmax</th>\n",
       "      <th>Tmin</th>\n",
       "      <th>Tavg</th>\n",
       "      <th>Depart</th>\n",
       "      <th>DewPoint</th>\n",
       "      <th>WetBulb</th>\n",
       "      <th>Heat</th>\n",
       "      <th>Cool</th>\n",
       "      <th>...</th>\n",
       "      <th>CodeSum</th>\n",
       "      <th>Depth</th>\n",
       "      <th>Water1</th>\n",
       "      <th>SnowFall</th>\n",
       "      <th>PrecipTotal</th>\n",
       "      <th>StnPressure</th>\n",
       "      <th>SeaLevel</th>\n",
       "      <th>ResultSpeed</th>\n",
       "      <th>ResultDir</th>\n",
       "      <th>AvgSpeed</th>\n",
       "    </tr>\n",
       "  </thead>\n",
       "  <tbody>\n",
       "    <tr>\n",
       "      <th>0</th>\n",
       "      <td>1</td>\n",
       "      <td>2007-05-01</td>\n",
       "      <td>83</td>\n",
       "      <td>50</td>\n",
       "      <td>67</td>\n",
       "      <td>14</td>\n",
       "      <td>51</td>\n",
       "      <td>56</td>\n",
       "      <td>0</td>\n",
       "      <td>2</td>\n",
       "      <td>...</td>\n",
       "      <td></td>\n",
       "      <td>0</td>\n",
       "      <td>M</td>\n",
       "      <td>0.0</td>\n",
       "      <td>0.00</td>\n",
       "      <td>29.10</td>\n",
       "      <td>29.82</td>\n",
       "      <td>1.7</td>\n",
       "      <td>27</td>\n",
       "      <td>9.2</td>\n",
       "    </tr>\n",
       "    <tr>\n",
       "      <th>1</th>\n",
       "      <td>2</td>\n",
       "      <td>2007-05-01</td>\n",
       "      <td>84</td>\n",
       "      <td>52</td>\n",
       "      <td>68</td>\n",
       "      <td>M</td>\n",
       "      <td>51</td>\n",
       "      <td>57</td>\n",
       "      <td>0</td>\n",
       "      <td>3</td>\n",
       "      <td>...</td>\n",
       "      <td></td>\n",
       "      <td>M</td>\n",
       "      <td>M</td>\n",
       "      <td>M</td>\n",
       "      <td>0.00</td>\n",
       "      <td>29.18</td>\n",
       "      <td>29.82</td>\n",
       "      <td>2.7</td>\n",
       "      <td>25</td>\n",
       "      <td>9.6</td>\n",
       "    </tr>\n",
       "    <tr>\n",
       "      <th>2</th>\n",
       "      <td>1</td>\n",
       "      <td>2007-05-02</td>\n",
       "      <td>59</td>\n",
       "      <td>42</td>\n",
       "      <td>51</td>\n",
       "      <td>-3</td>\n",
       "      <td>42</td>\n",
       "      <td>47</td>\n",
       "      <td>14</td>\n",
       "      <td>0</td>\n",
       "      <td>...</td>\n",
       "      <td>BR</td>\n",
       "      <td>0</td>\n",
       "      <td>M</td>\n",
       "      <td>0.0</td>\n",
       "      <td>0.00</td>\n",
       "      <td>29.38</td>\n",
       "      <td>30.09</td>\n",
       "      <td>13.0</td>\n",
       "      <td>4</td>\n",
       "      <td>13.4</td>\n",
       "    </tr>\n",
       "    <tr>\n",
       "      <th>3</th>\n",
       "      <td>2</td>\n",
       "      <td>2007-05-02</td>\n",
       "      <td>60</td>\n",
       "      <td>43</td>\n",
       "      <td>52</td>\n",
       "      <td>M</td>\n",
       "      <td>42</td>\n",
       "      <td>47</td>\n",
       "      <td>13</td>\n",
       "      <td>0</td>\n",
       "      <td>...</td>\n",
       "      <td>BR HZ</td>\n",
       "      <td>M</td>\n",
       "      <td>M</td>\n",
       "      <td>M</td>\n",
       "      <td>0.00</td>\n",
       "      <td>29.44</td>\n",
       "      <td>30.08</td>\n",
       "      <td>13.3</td>\n",
       "      <td>2</td>\n",
       "      <td>13.4</td>\n",
       "    </tr>\n",
       "    <tr>\n",
       "      <th>4</th>\n",
       "      <td>1</td>\n",
       "      <td>2007-05-03</td>\n",
       "      <td>66</td>\n",
       "      <td>46</td>\n",
       "      <td>56</td>\n",
       "      <td>2</td>\n",
       "      <td>40</td>\n",
       "      <td>48</td>\n",
       "      <td>9</td>\n",
       "      <td>0</td>\n",
       "      <td>...</td>\n",
       "      <td></td>\n",
       "      <td>0</td>\n",
       "      <td>M</td>\n",
       "      <td>0.0</td>\n",
       "      <td>0.00</td>\n",
       "      <td>29.39</td>\n",
       "      <td>30.12</td>\n",
       "      <td>11.7</td>\n",
       "      <td>7</td>\n",
       "      <td>11.9</td>\n",
       "    </tr>\n",
       "  </tbody>\n",
       "</table>\n",
       "<p>5 rows × 22 columns</p>\n",
       "</div>"
      ],
      "text/plain": [
       "   Station        Date  Tmax  Tmin Tavg Depart  DewPoint WetBulb Heat Cool  \\\n",
       "0        1  2007-05-01    83    50   67     14        51      56    0    2   \n",
       "1        2  2007-05-01    84    52   68      M        51      57    0    3   \n",
       "2        1  2007-05-02    59    42   51     -3        42      47   14    0   \n",
       "3        2  2007-05-02    60    43   52      M        42      47   13    0   \n",
       "4        1  2007-05-03    66    46   56      2        40      48    9    0   \n",
       "\n",
       "     ...    CodeSum Depth Water1 SnowFall PrecipTotal StnPressure SeaLevel  \\\n",
       "0    ...                0      M      0.0        0.00       29.10    29.82   \n",
       "1    ...                M      M        M        0.00       29.18    29.82   \n",
       "2    ...         BR     0      M      0.0        0.00       29.38    30.09   \n",
       "3    ...      BR HZ     M      M        M        0.00       29.44    30.08   \n",
       "4    ...                0      M      0.0        0.00       29.39    30.12   \n",
       "\n",
       "  ResultSpeed ResultDir  AvgSpeed  \n",
       "0         1.7        27       9.2  \n",
       "1         2.7        25       9.6  \n",
       "2        13.0         4      13.4  \n",
       "3        13.3         2      13.4  \n",
       "4        11.7         7      11.9  \n",
       "\n",
       "[5 rows x 22 columns]"
      ]
     },
     "execution_count": 8,
     "metadata": {},
     "output_type": "execute_result"
    }
   ],
   "source": [
    "weather.head()"
   ]
  },
  {
   "cell_type": "code",
   "execution_count": 9,
   "metadata": {},
   "outputs": [
    {
     "data": {
      "text/plain": [
       "(2944, 22)"
      ]
     },
     "execution_count": 9,
     "metadata": {},
     "output_type": "execute_result"
    }
   ],
   "source": [
    "weather.shape"
   ]
  },
  {
   "cell_type": "code",
   "execution_count": 10,
   "metadata": {},
   "outputs": [
    {
     "data": {
      "text/plain": [
       "Station          int64\n",
       "Date            object\n",
       "Tmax             int64\n",
       "Tmin             int64\n",
       "Tavg            object\n",
       "Depart          object\n",
       "DewPoint         int64\n",
       "WetBulb         object\n",
       "Heat            object\n",
       "Cool            object\n",
       "Sunrise         object\n",
       "Sunset          object\n",
       "CodeSum         object\n",
       "Depth           object\n",
       "Water1          object\n",
       "SnowFall        object\n",
       "PrecipTotal     object\n",
       "StnPressure     object\n",
       "SeaLevel        object\n",
       "ResultSpeed    float64\n",
       "ResultDir        int64\n",
       "AvgSpeed        object\n",
       "dtype: object"
      ]
     },
     "execution_count": 10,
     "metadata": {},
     "output_type": "execute_result"
    }
   ],
   "source": [
    "weather.dtypes"
   ]
  },
  {
   "cell_type": "code",
   "execution_count": 11,
   "metadata": {},
   "outputs": [],
   "source": [
    "# weather.isnull().sum()"
   ]
  },
  {
   "cell_type": "markdown",
   "metadata": {},
   "source": [
    "Now that the data has been read and we explored it a bit lets clean it up a bit."
   ]
  },
  {
   "cell_type": "code",
   "execution_count": 12,
   "metadata": {},
   "outputs": [
    {
     "data": {
      "text/plain": [
       "84    128\n",
       "79    121\n",
       "82    118\n",
       "81    117\n",
       "83    109\n",
       "Name: Tmax, dtype: int64"
      ]
     },
     "execution_count": 12,
     "metadata": {},
     "output_type": "execute_result"
    }
   ],
   "source": [
    "weather[\"Tmax\"].value_counts().sort_values(ascending=False).head()"
   ]
  },
  {
   "cell_type": "code",
   "execution_count": 13,
   "metadata": {},
   "outputs": [
    {
     "data": {
      "text/html": [
       "<div>\n",
       "<style scoped>\n",
       "    .dataframe tbody tr th:only-of-type {\n",
       "        vertical-align: middle;\n",
       "    }\n",
       "\n",
       "    .dataframe tbody tr th {\n",
       "        vertical-align: top;\n",
       "    }\n",
       "\n",
       "    .dataframe thead th {\n",
       "        text-align: right;\n",
       "    }\n",
       "</style>\n",
       "<table border=\"1\" class=\"dataframe\">\n",
       "  <thead>\n",
       "    <tr style=\"text-align: right;\">\n",
       "      <th></th>\n",
       "      <th>Station</th>\n",
       "      <th>Date</th>\n",
       "      <th>Tmax</th>\n",
       "      <th>Tmin</th>\n",
       "      <th>Tavg</th>\n",
       "      <th>Depart</th>\n",
       "      <th>DewPoint</th>\n",
       "      <th>WetBulb</th>\n",
       "      <th>Heat</th>\n",
       "      <th>Cool</th>\n",
       "      <th>...</th>\n",
       "      <th>CodeSum</th>\n",
       "      <th>Depth</th>\n",
       "      <th>Water1</th>\n",
       "      <th>SnowFall</th>\n",
       "      <th>PrecipTotal</th>\n",
       "      <th>StnPressure</th>\n",
       "      <th>SeaLevel</th>\n",
       "      <th>ResultSpeed</th>\n",
       "      <th>ResultDir</th>\n",
       "      <th>AvgSpeed</th>\n",
       "    </tr>\n",
       "  </thead>\n",
       "  <tbody>\n",
       "  </tbody>\n",
       "</table>\n",
       "<p>0 rows × 22 columns</p>\n",
       "</div>"
      ],
      "text/plain": [
       "Empty DataFrame\n",
       "Columns: [Station, Date, Tmax, Tmin, Tavg, Depart, DewPoint, WetBulb, Heat, Cool, Sunrise, Sunset, CodeSum, Depth, Water1, SnowFall, PrecipTotal, StnPressure, SeaLevel, ResultSpeed, ResultDir, AvgSpeed]\n",
       "Index: []\n",
       "\n",
       "[0 rows x 22 columns]"
      ]
     },
     "execution_count": 13,
     "metadata": {},
     "output_type": "execute_result"
    }
   ],
   "source": [
    "weather[weather[\"Tmax\"].apply(type) != int]"
   ]
  },
  {
   "cell_type": "code",
   "execution_count": 14,
   "metadata": {},
   "outputs": [
    {
     "data": {
      "text/plain": [
       "63    121\n",
       "65    111\n",
       "60    109\n",
       "61    106\n",
       "62    105\n",
       "Name: Tmin, dtype: int64"
      ]
     },
     "execution_count": 14,
     "metadata": {},
     "output_type": "execute_result"
    }
   ],
   "source": [
    "weather[\"Tmin\"].value_counts().sort_values(ascending=False).head()"
   ]
  },
  {
   "cell_type": "code",
   "execution_count": 15,
   "metadata": {},
   "outputs": [
    {
     "data": {
      "text/html": [
       "<div>\n",
       "<style scoped>\n",
       "    .dataframe tbody tr th:only-of-type {\n",
       "        vertical-align: middle;\n",
       "    }\n",
       "\n",
       "    .dataframe tbody tr th {\n",
       "        vertical-align: top;\n",
       "    }\n",
       "\n",
       "    .dataframe thead th {\n",
       "        text-align: right;\n",
       "    }\n",
       "</style>\n",
       "<table border=\"1\" class=\"dataframe\">\n",
       "  <thead>\n",
       "    <tr style=\"text-align: right;\">\n",
       "      <th></th>\n",
       "      <th>Station</th>\n",
       "      <th>Date</th>\n",
       "      <th>Tmax</th>\n",
       "      <th>Tmin</th>\n",
       "      <th>Tavg</th>\n",
       "      <th>Depart</th>\n",
       "      <th>DewPoint</th>\n",
       "      <th>WetBulb</th>\n",
       "      <th>Heat</th>\n",
       "      <th>Cool</th>\n",
       "      <th>...</th>\n",
       "      <th>CodeSum</th>\n",
       "      <th>Depth</th>\n",
       "      <th>Water1</th>\n",
       "      <th>SnowFall</th>\n",
       "      <th>PrecipTotal</th>\n",
       "      <th>StnPressure</th>\n",
       "      <th>SeaLevel</th>\n",
       "      <th>ResultSpeed</th>\n",
       "      <th>ResultDir</th>\n",
       "      <th>AvgSpeed</th>\n",
       "    </tr>\n",
       "  </thead>\n",
       "  <tbody>\n",
       "    <tr>\n",
       "      <th>7</th>\n",
       "      <td>2</td>\n",
       "      <td>2007-05-04</td>\n",
       "      <td>78</td>\n",
       "      <td>51</td>\n",
       "      <td>M</td>\n",
       "      <td>M</td>\n",
       "      <td>42</td>\n",
       "      <td>50</td>\n",
       "      <td>M</td>\n",
       "      <td>M</td>\n",
       "      <td>...</td>\n",
       "      <td></td>\n",
       "      <td>M</td>\n",
       "      <td>M</td>\n",
       "      <td>M</td>\n",
       "      <td>0.00</td>\n",
       "      <td>29.36</td>\n",
       "      <td>30.04</td>\n",
       "      <td>10.1</td>\n",
       "      <td>7</td>\n",
       "      <td>10.4</td>\n",
       "    </tr>\n",
       "    <tr>\n",
       "      <th>505</th>\n",
       "      <td>2</td>\n",
       "      <td>2008-07-08</td>\n",
       "      <td>86</td>\n",
       "      <td>46</td>\n",
       "      <td>M</td>\n",
       "      <td>M</td>\n",
       "      <td>68</td>\n",
       "      <td>71</td>\n",
       "      <td>M</td>\n",
       "      <td>M</td>\n",
       "      <td>...</td>\n",
       "      <td>TS RA</td>\n",
       "      <td>M</td>\n",
       "      <td>M</td>\n",
       "      <td>M</td>\n",
       "      <td>0.28</td>\n",
       "      <td>29.16</td>\n",
       "      <td>29.80</td>\n",
       "      <td>7.4</td>\n",
       "      <td>24</td>\n",
       "      <td>8.3</td>\n",
       "    </tr>\n",
       "    <tr>\n",
       "      <th>675</th>\n",
       "      <td>2</td>\n",
       "      <td>2008-10-01</td>\n",
       "      <td>62</td>\n",
       "      <td>46</td>\n",
       "      <td>M</td>\n",
       "      <td>M</td>\n",
       "      <td>41</td>\n",
       "      <td>47</td>\n",
       "      <td>M</td>\n",
       "      <td>M</td>\n",
       "      <td>...</td>\n",
       "      <td></td>\n",
       "      <td>M</td>\n",
       "      <td>M</td>\n",
       "      <td>M</td>\n",
       "      <td>0.00</td>\n",
       "      <td>29.30</td>\n",
       "      <td>29.96</td>\n",
       "      <td>10.9</td>\n",
       "      <td>33</td>\n",
       "      <td>11.0</td>\n",
       "    </tr>\n",
       "    <tr>\n",
       "      <th>1637</th>\n",
       "      <td>2</td>\n",
       "      <td>2011-07-22</td>\n",
       "      <td>100</td>\n",
       "      <td>71</td>\n",
       "      <td>M</td>\n",
       "      <td>M</td>\n",
       "      <td>70</td>\n",
       "      <td>74</td>\n",
       "      <td>M</td>\n",
       "      <td>M</td>\n",
       "      <td>...</td>\n",
       "      <td>TS TSRA BR</td>\n",
       "      <td>M</td>\n",
       "      <td>M</td>\n",
       "      <td>M</td>\n",
       "      <td>0.14</td>\n",
       "      <td>29.23</td>\n",
       "      <td>29.86</td>\n",
       "      <td>3.8</td>\n",
       "      <td>10</td>\n",
       "      <td>8.2</td>\n",
       "    </tr>\n",
       "    <tr>\n",
       "      <th>2067</th>\n",
       "      <td>2</td>\n",
       "      <td>2012-08-22</td>\n",
       "      <td>84</td>\n",
       "      <td>72</td>\n",
       "      <td>M</td>\n",
       "      <td>M</td>\n",
       "      <td>51</td>\n",
       "      <td>61</td>\n",
       "      <td>M</td>\n",
       "      <td>M</td>\n",
       "      <td>...</td>\n",
       "      <td></td>\n",
       "      <td>M</td>\n",
       "      <td>M</td>\n",
       "      <td>M</td>\n",
       "      <td>0.00</td>\n",
       "      <td>29.39</td>\n",
       "      <td>M</td>\n",
       "      <td>4.7</td>\n",
       "      <td>19</td>\n",
       "      <td>M</td>\n",
       "    </tr>\n",
       "    <tr>\n",
       "      <th>2211</th>\n",
       "      <td>2</td>\n",
       "      <td>2013-05-02</td>\n",
       "      <td>71</td>\n",
       "      <td>42</td>\n",
       "      <td>M</td>\n",
       "      <td>M</td>\n",
       "      <td>39</td>\n",
       "      <td>45</td>\n",
       "      <td>M</td>\n",
       "      <td>M</td>\n",
       "      <td>...</td>\n",
       "      <td></td>\n",
       "      <td>M</td>\n",
       "      <td>M</td>\n",
       "      <td>M</td>\n",
       "      <td>0.00</td>\n",
       "      <td>29.51</td>\n",
       "      <td>30.17</td>\n",
       "      <td>15.8</td>\n",
       "      <td>2</td>\n",
       "      <td>16.1</td>\n",
       "    </tr>\n",
       "    <tr>\n",
       "      <th>2501</th>\n",
       "      <td>2</td>\n",
       "      <td>2013-09-24</td>\n",
       "      <td>91</td>\n",
       "      <td>52</td>\n",
       "      <td>M</td>\n",
       "      <td>M</td>\n",
       "      <td>48</td>\n",
       "      <td>54</td>\n",
       "      <td>M</td>\n",
       "      <td>M</td>\n",
       "      <td>...</td>\n",
       "      <td></td>\n",
       "      <td>M</td>\n",
       "      <td>M</td>\n",
       "      <td>M</td>\n",
       "      <td>0.00</td>\n",
       "      <td>29.33</td>\n",
       "      <td>30.00</td>\n",
       "      <td>5.8</td>\n",
       "      <td>9</td>\n",
       "      <td>7.7</td>\n",
       "    </tr>\n",
       "    <tr>\n",
       "      <th>2511</th>\n",
       "      <td>2</td>\n",
       "      <td>2013-09-29</td>\n",
       "      <td>84</td>\n",
       "      <td>53</td>\n",
       "      <td>M</td>\n",
       "      <td>M</td>\n",
       "      <td>48</td>\n",
       "      <td>54</td>\n",
       "      <td>M</td>\n",
       "      <td>M</td>\n",
       "      <td>...</td>\n",
       "      <td>RA BR</td>\n",
       "      <td>M</td>\n",
       "      <td>M</td>\n",
       "      <td>M</td>\n",
       "      <td>0.22</td>\n",
       "      <td>29.36</td>\n",
       "      <td>30.01</td>\n",
       "      <td>6.3</td>\n",
       "      <td>36</td>\n",
       "      <td>7.8</td>\n",
       "    </tr>\n",
       "    <tr>\n",
       "      <th>2525</th>\n",
       "      <td>2</td>\n",
       "      <td>2013-10-06</td>\n",
       "      <td>76</td>\n",
       "      <td>48</td>\n",
       "      <td>M</td>\n",
       "      <td>M</td>\n",
       "      <td>44</td>\n",
       "      <td>50</td>\n",
       "      <td>M</td>\n",
       "      <td>M</td>\n",
       "      <td>...</td>\n",
       "      <td>RA DZ BR</td>\n",
       "      <td>M</td>\n",
       "      <td>M</td>\n",
       "      <td>M</td>\n",
       "      <td>0.06</td>\n",
       "      <td>29.10</td>\n",
       "      <td>29.76</td>\n",
       "      <td>10.1</td>\n",
       "      <td>25</td>\n",
       "      <td>10.6</td>\n",
       "    </tr>\n",
       "    <tr>\n",
       "      <th>2579</th>\n",
       "      <td>2</td>\n",
       "      <td>2014-05-02</td>\n",
       "      <td>80</td>\n",
       "      <td>47</td>\n",
       "      <td>M</td>\n",
       "      <td>M</td>\n",
       "      <td>43</td>\n",
       "      <td>47</td>\n",
       "      <td>M</td>\n",
       "      <td>M</td>\n",
       "      <td>...</td>\n",
       "      <td>RA</td>\n",
       "      <td>M</td>\n",
       "      <td>M</td>\n",
       "      <td>M</td>\n",
       "      <td>0.04</td>\n",
       "      <td>29.10</td>\n",
       "      <td>29.79</td>\n",
       "      <td>10.7</td>\n",
       "      <td>23</td>\n",
       "      <td>11.9</td>\n",
       "    </tr>\n",
       "    <tr>\n",
       "      <th>2811</th>\n",
       "      <td>2</td>\n",
       "      <td>2014-08-26</td>\n",
       "      <td>86</td>\n",
       "      <td>49</td>\n",
       "      <td>M</td>\n",
       "      <td>M</td>\n",
       "      <td>68</td>\n",
       "      <td>71</td>\n",
       "      <td>M</td>\n",
       "      <td>M</td>\n",
       "      <td>...</td>\n",
       "      <td></td>\n",
       "      <td>M</td>\n",
       "      <td>M</td>\n",
       "      <td>M</td>\n",
       "      <td>T</td>\n",
       "      <td>29.41</td>\n",
       "      <td>30.04</td>\n",
       "      <td>1.3</td>\n",
       "      <td>15</td>\n",
       "      <td>5.8</td>\n",
       "    </tr>\n",
       "  </tbody>\n",
       "</table>\n",
       "<p>11 rows × 22 columns</p>\n",
       "</div>"
      ],
      "text/plain": [
       "      Station        Date  Tmax  Tmin Tavg Depart  DewPoint WetBulb Heat Cool  \\\n",
       "7           2  2007-05-04    78    51    M      M        42      50    M    M   \n",
       "505         2  2008-07-08    86    46    M      M        68      71    M    M   \n",
       "675         2  2008-10-01    62    46    M      M        41      47    M    M   \n",
       "1637        2  2011-07-22   100    71    M      M        70      74    M    M   \n",
       "2067        2  2012-08-22    84    72    M      M        51      61    M    M   \n",
       "2211        2  2013-05-02    71    42    M      M        39      45    M    M   \n",
       "2501        2  2013-09-24    91    52    M      M        48      54    M    M   \n",
       "2511        2  2013-09-29    84    53    M      M        48      54    M    M   \n",
       "2525        2  2013-10-06    76    48    M      M        44      50    M    M   \n",
       "2579        2  2014-05-02    80    47    M      M        43      47    M    M   \n",
       "2811        2  2014-08-26    86    49    M      M        68      71    M    M   \n",
       "\n",
       "        ...        CodeSum Depth Water1 SnowFall PrecipTotal StnPressure  \\\n",
       "7       ...                    M      M        M        0.00       29.36   \n",
       "505     ...          TS RA     M      M        M        0.28       29.16   \n",
       "675     ...                    M      M        M        0.00       29.30   \n",
       "1637    ...     TS TSRA BR     M      M        M        0.14       29.23   \n",
       "2067    ...                    M      M        M        0.00       29.39   \n",
       "2211    ...                    M      M        M        0.00       29.51   \n",
       "2501    ...                    M      M        M        0.00       29.33   \n",
       "2511    ...          RA BR     M      M        M        0.22       29.36   \n",
       "2525    ...       RA DZ BR     M      M        M        0.06       29.10   \n",
       "2579    ...             RA     M      M        M        0.04       29.10   \n",
       "2811    ...                    M      M        M           T       29.41   \n",
       "\n",
       "     SeaLevel ResultSpeed ResultDir  AvgSpeed  \n",
       "7       30.04        10.1         7      10.4  \n",
       "505     29.80         7.4        24       8.3  \n",
       "675     29.96        10.9        33      11.0  \n",
       "1637    29.86         3.8        10       8.2  \n",
       "2067        M         4.7        19         M  \n",
       "2211    30.17        15.8         2      16.1  \n",
       "2501    30.00         5.8         9       7.7  \n",
       "2511    30.01         6.3        36       7.8  \n",
       "2525    29.76        10.1        25      10.6  \n",
       "2579    29.79        10.7        23      11.9  \n",
       "2811    30.04         1.3        15       5.8  \n",
       "\n",
       "[11 rows x 22 columns]"
      ]
     },
     "execution_count": 15,
     "metadata": {},
     "output_type": "execute_result"
    }
   ],
   "source": [
    "weather[weather[\"Tavg\"] == \"M\"]"
   ]
  },
  {
   "cell_type": "code",
   "execution_count": 16,
   "metadata": {},
   "outputs": [
    {
     "data": {
      "text/html": [
       "<div>\n",
       "<style scoped>\n",
       "    .dataframe tbody tr th:only-of-type {\n",
       "        vertical-align: middle;\n",
       "    }\n",
       "\n",
       "    .dataframe tbody tr th {\n",
       "        vertical-align: top;\n",
       "    }\n",
       "\n",
       "    .dataframe thead th {\n",
       "        text-align: right;\n",
       "    }\n",
       "</style>\n",
       "<table border=\"1\" class=\"dataframe\">\n",
       "  <thead>\n",
       "    <tr style=\"text-align: right;\">\n",
       "      <th></th>\n",
       "      <th>Station</th>\n",
       "      <th>Date</th>\n",
       "      <th>Tmax</th>\n",
       "      <th>Tmin</th>\n",
       "      <th>Tavg</th>\n",
       "      <th>Depart</th>\n",
       "      <th>DewPoint</th>\n",
       "      <th>WetBulb</th>\n",
       "      <th>Heat</th>\n",
       "      <th>Cool</th>\n",
       "      <th>...</th>\n",
       "      <th>CodeSum</th>\n",
       "      <th>Depth</th>\n",
       "      <th>Water1</th>\n",
       "      <th>SnowFall</th>\n",
       "      <th>PrecipTotal</th>\n",
       "      <th>StnPressure</th>\n",
       "      <th>SeaLevel</th>\n",
       "      <th>ResultSpeed</th>\n",
       "      <th>ResultDir</th>\n",
       "      <th>AvgSpeed</th>\n",
       "    </tr>\n",
       "  </thead>\n",
       "  <tbody>\n",
       "  </tbody>\n",
       "</table>\n",
       "<p>0 rows × 22 columns</p>\n",
       "</div>"
      ],
      "text/plain": [
       "Empty DataFrame\n",
       "Columns: [Station, Date, Tmax, Tmin, Tavg, Depart, DewPoint, WetBulb, Heat, Cool, Sunrise, Sunset, CodeSum, Depth, Water1, SnowFall, PrecipTotal, StnPressure, SeaLevel, ResultSpeed, ResultDir, AvgSpeed]\n",
       "Index: []\n",
       "\n",
       "[0 rows x 22 columns]"
      ]
     },
     "execution_count": 16,
     "metadata": {},
     "output_type": "execute_result"
    }
   ],
   "source": [
    "weather[weather[\"Tavg\"] == \"T\"]"
   ]
  },
  {
   "cell_type": "code",
   "execution_count": 17,
   "metadata": {},
   "outputs": [
    {
     "data": {
      "text/plain": [
       "73    138\n",
       "70    117\n",
       "77    117\n",
       "75    110\n",
       "71    109\n",
       "Name: Tavg, dtype: int64"
      ]
     },
     "execution_count": 17,
     "metadata": {},
     "output_type": "execute_result"
    }
   ],
   "source": [
    "weather[\"Tavg\"].value_counts().sort_values(ascending=False).head()"
   ]
  },
  {
   "cell_type": "code",
   "execution_count": 18,
   "metadata": {},
   "outputs": [
    {
     "data": {
      "text/plain": [
       "M     1472\n",
       " 2      93\n",
       "-1      84\n",
       "-2      80\n",
       " 5      77\n",
       "Name: Depart, dtype: int64"
      ]
     },
     "execution_count": 18,
     "metadata": {},
     "output_type": "execute_result"
    }
   ],
   "source": [
    "weather[\"Depart\"].value_counts().sort_values(ascending=False).head()"
   ]
  },
  {
   "cell_type": "code",
   "execution_count": 19,
   "metadata": {},
   "outputs": [
    {
     "data": {
      "text/html": [
       "<div>\n",
       "<style scoped>\n",
       "    .dataframe tbody tr th:only-of-type {\n",
       "        vertical-align: middle;\n",
       "    }\n",
       "\n",
       "    .dataframe tbody tr th {\n",
       "        vertical-align: top;\n",
       "    }\n",
       "\n",
       "    .dataframe thead th {\n",
       "        text-align: right;\n",
       "    }\n",
       "</style>\n",
       "<table border=\"1\" class=\"dataframe\">\n",
       "  <thead>\n",
       "    <tr style=\"text-align: right;\">\n",
       "      <th></th>\n",
       "      <th>Station</th>\n",
       "      <th>Date</th>\n",
       "      <th>Tmax</th>\n",
       "      <th>Tmin</th>\n",
       "      <th>Tavg</th>\n",
       "      <th>Depart</th>\n",
       "      <th>DewPoint</th>\n",
       "      <th>WetBulb</th>\n",
       "      <th>Heat</th>\n",
       "      <th>Cool</th>\n",
       "      <th>...</th>\n",
       "      <th>CodeSum</th>\n",
       "      <th>Depth</th>\n",
       "      <th>Water1</th>\n",
       "      <th>SnowFall</th>\n",
       "      <th>PrecipTotal</th>\n",
       "      <th>StnPressure</th>\n",
       "      <th>SeaLevel</th>\n",
       "      <th>ResultSpeed</th>\n",
       "      <th>ResultDir</th>\n",
       "      <th>AvgSpeed</th>\n",
       "    </tr>\n",
       "  </thead>\n",
       "  <tbody>\n",
       "    <tr>\n",
       "      <th>1</th>\n",
       "      <td>2</td>\n",
       "      <td>2007-05-01</td>\n",
       "      <td>84</td>\n",
       "      <td>52</td>\n",
       "      <td>68</td>\n",
       "      <td>M</td>\n",
       "      <td>51</td>\n",
       "      <td>57</td>\n",
       "      <td>0</td>\n",
       "      <td>3</td>\n",
       "      <td>...</td>\n",
       "      <td></td>\n",
       "      <td>M</td>\n",
       "      <td>M</td>\n",
       "      <td>M</td>\n",
       "      <td>0.00</td>\n",
       "      <td>29.18</td>\n",
       "      <td>29.82</td>\n",
       "      <td>2.7</td>\n",
       "      <td>25</td>\n",
       "      <td>9.6</td>\n",
       "    </tr>\n",
       "    <tr>\n",
       "      <th>3</th>\n",
       "      <td>2</td>\n",
       "      <td>2007-05-02</td>\n",
       "      <td>60</td>\n",
       "      <td>43</td>\n",
       "      <td>52</td>\n",
       "      <td>M</td>\n",
       "      <td>42</td>\n",
       "      <td>47</td>\n",
       "      <td>13</td>\n",
       "      <td>0</td>\n",
       "      <td>...</td>\n",
       "      <td>BR HZ</td>\n",
       "      <td>M</td>\n",
       "      <td>M</td>\n",
       "      <td>M</td>\n",
       "      <td>0.00</td>\n",
       "      <td>29.44</td>\n",
       "      <td>30.08</td>\n",
       "      <td>13.3</td>\n",
       "      <td>2</td>\n",
       "      <td>13.4</td>\n",
       "    </tr>\n",
       "    <tr>\n",
       "      <th>5</th>\n",
       "      <td>2</td>\n",
       "      <td>2007-05-03</td>\n",
       "      <td>67</td>\n",
       "      <td>48</td>\n",
       "      <td>58</td>\n",
       "      <td>M</td>\n",
       "      <td>40</td>\n",
       "      <td>50</td>\n",
       "      <td>7</td>\n",
       "      <td>0</td>\n",
       "      <td>...</td>\n",
       "      <td>HZ</td>\n",
       "      <td>M</td>\n",
       "      <td>M</td>\n",
       "      <td>M</td>\n",
       "      <td>0.00</td>\n",
       "      <td>29.46</td>\n",
       "      <td>30.12</td>\n",
       "      <td>12.9</td>\n",
       "      <td>6</td>\n",
       "      <td>13.2</td>\n",
       "    </tr>\n",
       "    <tr>\n",
       "      <th>7</th>\n",
       "      <td>2</td>\n",
       "      <td>2007-05-04</td>\n",
       "      <td>78</td>\n",
       "      <td>51</td>\n",
       "      <td>M</td>\n",
       "      <td>M</td>\n",
       "      <td>42</td>\n",
       "      <td>50</td>\n",
       "      <td>M</td>\n",
       "      <td>M</td>\n",
       "      <td>...</td>\n",
       "      <td></td>\n",
       "      <td>M</td>\n",
       "      <td>M</td>\n",
       "      <td>M</td>\n",
       "      <td>0.00</td>\n",
       "      <td>29.36</td>\n",
       "      <td>30.04</td>\n",
       "      <td>10.1</td>\n",
       "      <td>7</td>\n",
       "      <td>10.4</td>\n",
       "    </tr>\n",
       "    <tr>\n",
       "      <th>9</th>\n",
       "      <td>2</td>\n",
       "      <td>2007-05-05</td>\n",
       "      <td>66</td>\n",
       "      <td>54</td>\n",
       "      <td>60</td>\n",
       "      <td>M</td>\n",
       "      <td>39</td>\n",
       "      <td>50</td>\n",
       "      <td>5</td>\n",
       "      <td>0</td>\n",
       "      <td>...</td>\n",
       "      <td></td>\n",
       "      <td>M</td>\n",
       "      <td>M</td>\n",
       "      <td>M</td>\n",
       "      <td>T</td>\n",
       "      <td>29.46</td>\n",
       "      <td>30.09</td>\n",
       "      <td>11.2</td>\n",
       "      <td>7</td>\n",
       "      <td>11.5</td>\n",
       "    </tr>\n",
       "    <tr>\n",
       "      <th>11</th>\n",
       "      <td>2</td>\n",
       "      <td>2007-05-06</td>\n",
       "      <td>68</td>\n",
       "      <td>52</td>\n",
       "      <td>60</td>\n",
       "      <td>M</td>\n",
       "      <td>30</td>\n",
       "      <td>46</td>\n",
       "      <td>5</td>\n",
       "      <td>0</td>\n",
       "      <td>...</td>\n",
       "      <td></td>\n",
       "      <td>M</td>\n",
       "      <td>M</td>\n",
       "      <td>M</td>\n",
       "      <td>0.00</td>\n",
       "      <td>29.62</td>\n",
       "      <td>30.28</td>\n",
       "      <td>13.8</td>\n",
       "      <td>10</td>\n",
       "      <td>14.5</td>\n",
       "    </tr>\n",
       "    <tr>\n",
       "      <th>13</th>\n",
       "      <td>2</td>\n",
       "      <td>2007-05-07</td>\n",
       "      <td>84</td>\n",
       "      <td>50</td>\n",
       "      <td>67</td>\n",
       "      <td>M</td>\n",
       "      <td>39</td>\n",
       "      <td>53</td>\n",
       "      <td>0</td>\n",
       "      <td>2</td>\n",
       "      <td>...</td>\n",
       "      <td></td>\n",
       "      <td>M</td>\n",
       "      <td>M</td>\n",
       "      <td>M</td>\n",
       "      <td>0.00</td>\n",
       "      <td>29.44</td>\n",
       "      <td>30.12</td>\n",
       "      <td>8.5</td>\n",
       "      <td>17</td>\n",
       "      <td>9.9</td>\n",
       "    </tr>\n",
       "    <tr>\n",
       "      <th>15</th>\n",
       "      <td>2</td>\n",
       "      <td>2007-05-08</td>\n",
       "      <td>80</td>\n",
       "      <td>60</td>\n",
       "      <td>70</td>\n",
       "      <td>M</td>\n",
       "      <td>57</td>\n",
       "      <td>63</td>\n",
       "      <td>0</td>\n",
       "      <td>5</td>\n",
       "      <td>...</td>\n",
       "      <td>HZ</td>\n",
       "      <td>M</td>\n",
       "      <td>M</td>\n",
       "      <td>M</td>\n",
       "      <td>T</td>\n",
       "      <td>29.36</td>\n",
       "      <td>30.02</td>\n",
       "      <td>2.5</td>\n",
       "      <td>8</td>\n",
       "      <td>5.4</td>\n",
       "    </tr>\n",
       "    <tr>\n",
       "      <th>17</th>\n",
       "      <td>2</td>\n",
       "      <td>2007-05-09</td>\n",
       "      <td>76</td>\n",
       "      <td>63</td>\n",
       "      <td>70</td>\n",
       "      <td>M</td>\n",
       "      <td>60</td>\n",
       "      <td>63</td>\n",
       "      <td>0</td>\n",
       "      <td>5</td>\n",
       "      <td>...</td>\n",
       "      <td>BR HZ</td>\n",
       "      <td>M</td>\n",
       "      <td>M</td>\n",
       "      <td>M</td>\n",
       "      <td>0.02</td>\n",
       "      <td>29.28</td>\n",
       "      <td>29.93</td>\n",
       "      <td>3.9</td>\n",
       "      <td>7</td>\n",
       "      <td>5.9</td>\n",
       "    </tr>\n",
       "    <tr>\n",
       "      <th>19</th>\n",
       "      <td>2</td>\n",
       "      <td>2007-05-10</td>\n",
       "      <td>83</td>\n",
       "      <td>59</td>\n",
       "      <td>71</td>\n",
       "      <td>M</td>\n",
       "      <td>52</td>\n",
       "      <td>61</td>\n",
       "      <td>0</td>\n",
       "      <td>6</td>\n",
       "      <td>...</td>\n",
       "      <td>BR HZ</td>\n",
       "      <td>M</td>\n",
       "      <td>M</td>\n",
       "      <td>M</td>\n",
       "      <td>0.00</td>\n",
       "      <td>29.26</td>\n",
       "      <td>29.91</td>\n",
       "      <td>2.0</td>\n",
       "      <td>9</td>\n",
       "      <td>3.9</td>\n",
       "    </tr>\n",
       "    <tr>\n",
       "      <th>21</th>\n",
       "      <td>2</td>\n",
       "      <td>2007-05-11</td>\n",
       "      <td>73</td>\n",
       "      <td>49</td>\n",
       "      <td>61</td>\n",
       "      <td>M</td>\n",
       "      <td>44</td>\n",
       "      <td>51</td>\n",
       "      <td>4</td>\n",
       "      <td>0</td>\n",
       "      <td>...</td>\n",
       "      <td></td>\n",
       "      <td>M</td>\n",
       "      <td>M</td>\n",
       "      <td>M</td>\n",
       "      <td>0.00</td>\n",
       "      <td>29.39</td>\n",
       "      <td>30.03</td>\n",
       "      <td>11.7</td>\n",
       "      <td>36</td>\n",
       "      <td>12.8</td>\n",
       "    </tr>\n",
       "    <tr>\n",
       "      <th>23</th>\n",
       "      <td>2</td>\n",
       "      <td>2007-05-12</td>\n",
       "      <td>65</td>\n",
       "      <td>47</td>\n",
       "      <td>56</td>\n",
       "      <td>M</td>\n",
       "      <td>37</td>\n",
       "      <td>46</td>\n",
       "      <td>9</td>\n",
       "      <td>0</td>\n",
       "      <td>...</td>\n",
       "      <td></td>\n",
       "      <td>M</td>\n",
       "      <td>M</td>\n",
       "      <td>M</td>\n",
       "      <td>0.00</td>\n",
       "      <td>29.54</td>\n",
       "      <td>30.19</td>\n",
       "      <td>12.7</td>\n",
       "      <td>1</td>\n",
       "      <td>13.0</td>\n",
       "    </tr>\n",
       "    <tr>\n",
       "      <th>25</th>\n",
       "      <td>2</td>\n",
       "      <td>2007-05-13</td>\n",
       "      <td>69</td>\n",
       "      <td>44</td>\n",
       "      <td>57</td>\n",
       "      <td>M</td>\n",
       "      <td>32</td>\n",
       "      <td>46</td>\n",
       "      <td>8</td>\n",
       "      <td>0</td>\n",
       "      <td>...</td>\n",
       "      <td></td>\n",
       "      <td>M</td>\n",
       "      <td>M</td>\n",
       "      <td>M</td>\n",
       "      <td>0.00</td>\n",
       "      <td>29.55</td>\n",
       "      <td>30.24</td>\n",
       "      <td>6.4</td>\n",
       "      <td>11</td>\n",
       "      <td>7.6</td>\n",
       "    </tr>\n",
       "    <tr>\n",
       "      <th>27</th>\n",
       "      <td>2</td>\n",
       "      <td>2007-05-14</td>\n",
       "      <td>90</td>\n",
       "      <td>54</td>\n",
       "      <td>72</td>\n",
       "      <td>M</td>\n",
       "      <td>45</td>\n",
       "      <td>58</td>\n",
       "      <td>0</td>\n",
       "      <td>7</td>\n",
       "      <td>...</td>\n",
       "      <td></td>\n",
       "      <td>M</td>\n",
       "      <td>M</td>\n",
       "      <td>M</td>\n",
       "      <td>0.00</td>\n",
       "      <td>29.31</td>\n",
       "      <td>29.98</td>\n",
       "      <td>14.1</td>\n",
       "      <td>21</td>\n",
       "      <td>14.6</td>\n",
       "    </tr>\n",
       "    <tr>\n",
       "      <th>29</th>\n",
       "      <td>2</td>\n",
       "      <td>2007-05-15</td>\n",
       "      <td>82</td>\n",
       "      <td>56</td>\n",
       "      <td>69</td>\n",
       "      <td>M</td>\n",
       "      <td>56</td>\n",
       "      <td>61</td>\n",
       "      <td>0</td>\n",
       "      <td>4</td>\n",
       "      <td>...</td>\n",
       "      <td>TSRA RA BR</td>\n",
       "      <td>M</td>\n",
       "      <td>M</td>\n",
       "      <td>M</td>\n",
       "      <td>0.60</td>\n",
       "      <td>29.19</td>\n",
       "      <td>29.83</td>\n",
       "      <td>8.1</td>\n",
       "      <td>25</td>\n",
       "      <td>10.8</td>\n",
       "    </tr>\n",
       "    <tr>\n",
       "      <th>31</th>\n",
       "      <td>2</td>\n",
       "      <td>2007-05-16</td>\n",
       "      <td>64</td>\n",
       "      <td>45</td>\n",
       "      <td>55</td>\n",
       "      <td>M</td>\n",
       "      <td>42</td>\n",
       "      <td>47</td>\n",
       "      <td>10</td>\n",
       "      <td>0</td>\n",
       "      <td>...</td>\n",
       "      <td>RA BR</td>\n",
       "      <td>M</td>\n",
       "      <td>M</td>\n",
       "      <td>M</td>\n",
       "      <td>0.07</td>\n",
       "      <td>29.39</td>\n",
       "      <td>30.03</td>\n",
       "      <td>8.0</td>\n",
       "      <td>36</td>\n",
       "      <td>11.8</td>\n",
       "    </tr>\n",
       "    <tr>\n",
       "      <th>33</th>\n",
       "      <td>2</td>\n",
       "      <td>2007-05-17</td>\n",
       "      <td>61</td>\n",
       "      <td>44</td>\n",
       "      <td>53</td>\n",
       "      <td>M</td>\n",
       "      <td>32</td>\n",
       "      <td>43</td>\n",
       "      <td>12</td>\n",
       "      <td>0</td>\n",
       "      <td>...</td>\n",
       "      <td></td>\n",
       "      <td>M</td>\n",
       "      <td>M</td>\n",
       "      <td>M</td>\n",
       "      <td>0.00</td>\n",
       "      <td>29.62</td>\n",
       "      <td>30.27</td>\n",
       "      <td>11.7</td>\n",
       "      <td>1</td>\n",
       "      <td>12.2</td>\n",
       "    </tr>\n",
       "    <tr>\n",
       "      <th>35</th>\n",
       "      <td>2</td>\n",
       "      <td>2007-05-18</td>\n",
       "      <td>70</td>\n",
       "      <td>43</td>\n",
       "      <td>57</td>\n",
       "      <td>M</td>\n",
       "      <td>31</td>\n",
       "      <td>47</td>\n",
       "      <td>8</td>\n",
       "      <td>0</td>\n",
       "      <td>...</td>\n",
       "      <td></td>\n",
       "      <td>M</td>\n",
       "      <td>M</td>\n",
       "      <td>M</td>\n",
       "      <td>0.00</td>\n",
       "      <td>29.60</td>\n",
       "      <td>30.26</td>\n",
       "      <td>3.4</td>\n",
       "      <td>22</td>\n",
       "      <td>5.5</td>\n",
       "    </tr>\n",
       "    <tr>\n",
       "      <th>37</th>\n",
       "      <td>2</td>\n",
       "      <td>2007-05-19</td>\n",
       "      <td>80</td>\n",
       "      <td>56</td>\n",
       "      <td>68</td>\n",
       "      <td>M</td>\n",
       "      <td>37</td>\n",
       "      <td>53</td>\n",
       "      <td>0</td>\n",
       "      <td>3</td>\n",
       "      <td>...</td>\n",
       "      <td></td>\n",
       "      <td>M</td>\n",
       "      <td>M</td>\n",
       "      <td>M</td>\n",
       "      <td>0.00</td>\n",
       "      <td>29.41</td>\n",
       "      <td>30.08</td>\n",
       "      <td>11.1</td>\n",
       "      <td>23</td>\n",
       "      <td>11.4</td>\n",
       "    </tr>\n",
       "    <tr>\n",
       "      <th>39</th>\n",
       "      <td>2</td>\n",
       "      <td>2007-05-20</td>\n",
       "      <td>69</td>\n",
       "      <td>44</td>\n",
       "      <td>57</td>\n",
       "      <td>M</td>\n",
       "      <td>41</td>\n",
       "      <td>45</td>\n",
       "      <td>8</td>\n",
       "      <td>0</td>\n",
       "      <td>...</td>\n",
       "      <td>TSRA RA</td>\n",
       "      <td>M</td>\n",
       "      <td>M</td>\n",
       "      <td>M</td>\n",
       "      <td>0.11</td>\n",
       "      <td>29.44</td>\n",
       "      <td>30.11</td>\n",
       "      <td>8.6</td>\n",
       "      <td>3</td>\n",
       "      <td>9.7</td>\n",
       "    </tr>\n",
       "    <tr>\n",
       "      <th>41</th>\n",
       "      <td>2</td>\n",
       "      <td>2007-05-21</td>\n",
       "      <td>79</td>\n",
       "      <td>46</td>\n",
       "      <td>63</td>\n",
       "      <td>M</td>\n",
       "      <td>50</td>\n",
       "      <td>57</td>\n",
       "      <td>2</td>\n",
       "      <td>0</td>\n",
       "      <td>...</td>\n",
       "      <td></td>\n",
       "      <td>M</td>\n",
       "      <td>M</td>\n",
       "      <td>M</td>\n",
       "      <td>0.00</td>\n",
       "      <td>29.39</td>\n",
       "      <td>30.05</td>\n",
       "      <td>6.3</td>\n",
       "      <td>10</td>\n",
       "      <td>7.8</td>\n",
       "    </tr>\n",
       "    <tr>\n",
       "      <th>43</th>\n",
       "      <td>2</td>\n",
       "      <td>2007-05-22</td>\n",
       "      <td>87</td>\n",
       "      <td>60</td>\n",
       "      <td>74</td>\n",
       "      <td>M</td>\n",
       "      <td>44</td>\n",
       "      <td>58</td>\n",
       "      <td>0</td>\n",
       "      <td>9</td>\n",
       "      <td>...</td>\n",
       "      <td></td>\n",
       "      <td>M</td>\n",
       "      <td>M</td>\n",
       "      <td>M</td>\n",
       "      <td>0.00</td>\n",
       "      <td>29.41</td>\n",
       "      <td>30.05</td>\n",
       "      <td>10.1</td>\n",
       "      <td>16</td>\n",
       "      <td>10.6</td>\n",
       "    </tr>\n",
       "    <tr>\n",
       "      <th>45</th>\n",
       "      <td>2</td>\n",
       "      <td>2007-05-23</td>\n",
       "      <td>89</td>\n",
       "      <td>66</td>\n",
       "      <td>78</td>\n",
       "      <td>M</td>\n",
       "      <td>48</td>\n",
       "      <td>61</td>\n",
       "      <td>0</td>\n",
       "      <td>13</td>\n",
       "      <td>...</td>\n",
       "      <td></td>\n",
       "      <td>M</td>\n",
       "      <td>M</td>\n",
       "      <td>M</td>\n",
       "      <td>0.00</td>\n",
       "      <td>29.47</td>\n",
       "      <td>30.10</td>\n",
       "      <td>10.9</td>\n",
       "      <td>18</td>\n",
       "      <td>11.2</td>\n",
       "    </tr>\n",
       "    <tr>\n",
       "      <th>47</th>\n",
       "      <td>2</td>\n",
       "      <td>2007-05-24</td>\n",
       "      <td>88</td>\n",
       "      <td>66</td>\n",
       "      <td>77</td>\n",
       "      <td>M</td>\n",
       "      <td>53</td>\n",
       "      <td>63</td>\n",
       "      <td>0</td>\n",
       "      <td>12</td>\n",
       "      <td>...</td>\n",
       "      <td>RA HZ</td>\n",
       "      <td>M</td>\n",
       "      <td>M</td>\n",
       "      <td>M</td>\n",
       "      <td>T</td>\n",
       "      <td>29.47</td>\n",
       "      <td>30.10</td>\n",
       "      <td>13.8</td>\n",
       "      <td>20</td>\n",
       "      <td>15.2</td>\n",
       "    </tr>\n",
       "    <tr>\n",
       "      <th>49</th>\n",
       "      <td>2</td>\n",
       "      <td>2007-05-25</td>\n",
       "      <td>66</td>\n",
       "      <td>57</td>\n",
       "      <td>62</td>\n",
       "      <td>M</td>\n",
       "      <td>46</td>\n",
       "      <td>53</td>\n",
       "      <td>3</td>\n",
       "      <td>0</td>\n",
       "      <td>...</td>\n",
       "      <td>RA BR</td>\n",
       "      <td>M</td>\n",
       "      <td>M</td>\n",
       "      <td>M</td>\n",
       "      <td>0.09</td>\n",
       "      <td>29.57</td>\n",
       "      <td>30.23</td>\n",
       "      <td>4.5</td>\n",
       "      <td>5</td>\n",
       "      <td>8.2</td>\n",
       "    </tr>\n",
       "    <tr>\n",
       "      <th>51</th>\n",
       "      <td>2</td>\n",
       "      <td>2007-05-26</td>\n",
       "      <td>70</td>\n",
       "      <td>50</td>\n",
       "      <td>60</td>\n",
       "      <td>M</td>\n",
       "      <td>55</td>\n",
       "      <td>57</td>\n",
       "      <td>5</td>\n",
       "      <td>0</td>\n",
       "      <td>...</td>\n",
       "      <td>TSRA RA BR</td>\n",
       "      <td>M</td>\n",
       "      <td>M</td>\n",
       "      <td>M</td>\n",
       "      <td>0.28</td>\n",
       "      <td>29.42</td>\n",
       "      <td>30.10</td>\n",
       "      <td>2.5</td>\n",
       "      <td>15</td>\n",
       "      <td>7.8</td>\n",
       "    </tr>\n",
       "    <tr>\n",
       "      <th>53</th>\n",
       "      <td>2</td>\n",
       "      <td>2007-05-27</td>\n",
       "      <td>75</td>\n",
       "      <td>59</td>\n",
       "      <td>67</td>\n",
       "      <td>M</td>\n",
       "      <td>49</td>\n",
       "      <td>57</td>\n",
       "      <td>0</td>\n",
       "      <td>2</td>\n",
       "      <td>...</td>\n",
       "      <td>RA BR</td>\n",
       "      <td>M</td>\n",
       "      <td>M</td>\n",
       "      <td>M</td>\n",
       "      <td>0.08</td>\n",
       "      <td>29.41</td>\n",
       "      <td>30.05</td>\n",
       "      <td>8.2</td>\n",
       "      <td>24</td>\n",
       "      <td>9.2</td>\n",
       "    </tr>\n",
       "    <tr>\n",
       "      <th>55</th>\n",
       "      <td>2</td>\n",
       "      <td>2007-05-28</td>\n",
       "      <td>76</td>\n",
       "      <td>54</td>\n",
       "      <td>65</td>\n",
       "      <td>M</td>\n",
       "      <td>49</td>\n",
       "      <td>57</td>\n",
       "      <td>0</td>\n",
       "      <td>0</td>\n",
       "      <td>...</td>\n",
       "      <td></td>\n",
       "      <td>M</td>\n",
       "      <td>M</td>\n",
       "      <td>M</td>\n",
       "      <td>0.00</td>\n",
       "      <td>29.49</td>\n",
       "      <td>30.14</td>\n",
       "      <td>4.7</td>\n",
       "      <td>8</td>\n",
       "      <td>5.2</td>\n",
       "    </tr>\n",
       "    <tr>\n",
       "      <th>57</th>\n",
       "      <td>2</td>\n",
       "      <td>2007-05-29</td>\n",
       "      <td>88</td>\n",
       "      <td>65</td>\n",
       "      <td>77</td>\n",
       "      <td>M</td>\n",
       "      <td>59</td>\n",
       "      <td>66</td>\n",
       "      <td>0</td>\n",
       "      <td>12</td>\n",
       "      <td>...</td>\n",
       "      <td>BR HZ</td>\n",
       "      <td>M</td>\n",
       "      <td>M</td>\n",
       "      <td>M</td>\n",
       "      <td>0.00</td>\n",
       "      <td>29.44</td>\n",
       "      <td>30.09</td>\n",
       "      <td>5.8</td>\n",
       "      <td>16</td>\n",
       "      <td>7.4</td>\n",
       "    </tr>\n",
       "    <tr>\n",
       "      <th>59</th>\n",
       "      <td>2</td>\n",
       "      <td>2007-05-30</td>\n",
       "      <td>89</td>\n",
       "      <td>70</td>\n",
       "      <td>80</td>\n",
       "      <td>M</td>\n",
       "      <td>57</td>\n",
       "      <td>66</td>\n",
       "      <td>0</td>\n",
       "      <td>15</td>\n",
       "      <td>...</td>\n",
       "      <td>HZ</td>\n",
       "      <td>M</td>\n",
       "      <td>M</td>\n",
       "      <td>M</td>\n",
       "      <td>0.00</td>\n",
       "      <td>29.38</td>\n",
       "      <td>30.03</td>\n",
       "      <td>9.7</td>\n",
       "      <td>17</td>\n",
       "      <td>10.1</td>\n",
       "    </tr>\n",
       "    <tr>\n",
       "      <th>...</th>\n",
       "      <td>...</td>\n",
       "      <td>...</td>\n",
       "      <td>...</td>\n",
       "      <td>...</td>\n",
       "      <td>...</td>\n",
       "      <td>...</td>\n",
       "      <td>...</td>\n",
       "      <td>...</td>\n",
       "      <td>...</td>\n",
       "      <td>...</td>\n",
       "      <td>...</td>\n",
       "      <td>...</td>\n",
       "      <td>...</td>\n",
       "      <td>...</td>\n",
       "      <td>...</td>\n",
       "      <td>...</td>\n",
       "      <td>...</td>\n",
       "      <td>...</td>\n",
       "      <td>...</td>\n",
       "      <td>...</td>\n",
       "      <td>...</td>\n",
       "    </tr>\n",
       "    <tr>\n",
       "      <th>2885</th>\n",
       "      <td>2</td>\n",
       "      <td>2014-10-02</td>\n",
       "      <td>75</td>\n",
       "      <td>66</td>\n",
       "      <td>71</td>\n",
       "      <td>M</td>\n",
       "      <td>63</td>\n",
       "      <td>65</td>\n",
       "      <td>0</td>\n",
       "      <td>6</td>\n",
       "      <td>...</td>\n",
       "      <td>TSRA RA BR</td>\n",
       "      <td>M</td>\n",
       "      <td>M</td>\n",
       "      <td>M</td>\n",
       "      <td>0.72</td>\n",
       "      <td>29.10</td>\n",
       "      <td>29.78</td>\n",
       "      <td>7.2</td>\n",
       "      <td>17</td>\n",
       "      <td>7.9</td>\n",
       "    </tr>\n",
       "    <tr>\n",
       "      <th>2887</th>\n",
       "      <td>2</td>\n",
       "      <td>2014-10-03</td>\n",
       "      <td>68</td>\n",
       "      <td>46</td>\n",
       "      <td>57</td>\n",
       "      <td>M</td>\n",
       "      <td>47</td>\n",
       "      <td>52</td>\n",
       "      <td>8</td>\n",
       "      <td>0</td>\n",
       "      <td>...</td>\n",
       "      <td>RA BR</td>\n",
       "      <td>M</td>\n",
       "      <td>M</td>\n",
       "      <td>M</td>\n",
       "      <td>1.05</td>\n",
       "      <td>29.02</td>\n",
       "      <td>29.66</td>\n",
       "      <td>14.0</td>\n",
       "      <td>28</td>\n",
       "      <td>15.6</td>\n",
       "    </tr>\n",
       "    <tr>\n",
       "      <th>2889</th>\n",
       "      <td>2</td>\n",
       "      <td>2014-10-04</td>\n",
       "      <td>49</td>\n",
       "      <td>37</td>\n",
       "      <td>43</td>\n",
       "      <td>M</td>\n",
       "      <td>35</td>\n",
       "      <td>41</td>\n",
       "      <td>22</td>\n",
       "      <td>0</td>\n",
       "      <td>...</td>\n",
       "      <td>RA DZ</td>\n",
       "      <td>M</td>\n",
       "      <td>M</td>\n",
       "      <td>M</td>\n",
       "      <td>0.05</td>\n",
       "      <td>29.07</td>\n",
       "      <td>29.74</td>\n",
       "      <td>13.6</td>\n",
       "      <td>25</td>\n",
       "      <td>13.5</td>\n",
       "    </tr>\n",
       "    <tr>\n",
       "      <th>2891</th>\n",
       "      <td>2</td>\n",
       "      <td>2014-10-05</td>\n",
       "      <td>56</td>\n",
       "      <td>42</td>\n",
       "      <td>49</td>\n",
       "      <td>M</td>\n",
       "      <td>36</td>\n",
       "      <td>44</td>\n",
       "      <td>16</td>\n",
       "      <td>0</td>\n",
       "      <td>...</td>\n",
       "      <td>RA</td>\n",
       "      <td>M</td>\n",
       "      <td>M</td>\n",
       "      <td>M</td>\n",
       "      <td>T</td>\n",
       "      <td>29.02</td>\n",
       "      <td>29.70</td>\n",
       "      <td>10.1</td>\n",
       "      <td>23</td>\n",
       "      <td>10.7</td>\n",
       "    </tr>\n",
       "    <tr>\n",
       "      <th>2893</th>\n",
       "      <td>2</td>\n",
       "      <td>2014-10-06</td>\n",
       "      <td>63</td>\n",
       "      <td>48</td>\n",
       "      <td>56</td>\n",
       "      <td>M</td>\n",
       "      <td>40</td>\n",
       "      <td>47</td>\n",
       "      <td>9</td>\n",
       "      <td>0</td>\n",
       "      <td>...</td>\n",
       "      <td></td>\n",
       "      <td>M</td>\n",
       "      <td>M</td>\n",
       "      <td>M</td>\n",
       "      <td>0.01</td>\n",
       "      <td>28.95</td>\n",
       "      <td>29.62</td>\n",
       "      <td>9.5</td>\n",
       "      <td>23</td>\n",
       "      <td>10.5</td>\n",
       "    </tr>\n",
       "    <tr>\n",
       "      <th>2895</th>\n",
       "      <td>2</td>\n",
       "      <td>2014-10-07</td>\n",
       "      <td>69</td>\n",
       "      <td>49</td>\n",
       "      <td>59</td>\n",
       "      <td>M</td>\n",
       "      <td>45</td>\n",
       "      <td>51</td>\n",
       "      <td>6</td>\n",
       "      <td>0</td>\n",
       "      <td>...</td>\n",
       "      <td></td>\n",
       "      <td>M</td>\n",
       "      <td>M</td>\n",
       "      <td>M</td>\n",
       "      <td>0.00</td>\n",
       "      <td>29.06</td>\n",
       "      <td>29.70</td>\n",
       "      <td>10.3</td>\n",
       "      <td>24</td>\n",
       "      <td>11.7</td>\n",
       "    </tr>\n",
       "    <tr>\n",
       "      <th>2897</th>\n",
       "      <td>2</td>\n",
       "      <td>2014-10-08</td>\n",
       "      <td>67</td>\n",
       "      <td>48</td>\n",
       "      <td>58</td>\n",
       "      <td>M</td>\n",
       "      <td>36</td>\n",
       "      <td>48</td>\n",
       "      <td>7</td>\n",
       "      <td>0</td>\n",
       "      <td>...</td>\n",
       "      <td></td>\n",
       "      <td>M</td>\n",
       "      <td>M</td>\n",
       "      <td>M</td>\n",
       "      <td>0.00</td>\n",
       "      <td>29.34</td>\n",
       "      <td>29.97</td>\n",
       "      <td>10.7</td>\n",
       "      <td>27</td>\n",
       "      <td>11.2</td>\n",
       "    </tr>\n",
       "    <tr>\n",
       "      <th>2899</th>\n",
       "      <td>2</td>\n",
       "      <td>2014-10-09</td>\n",
       "      <td>64</td>\n",
       "      <td>50</td>\n",
       "      <td>57</td>\n",
       "      <td>M</td>\n",
       "      <td>36</td>\n",
       "      <td>46</td>\n",
       "      <td>8</td>\n",
       "      <td>0</td>\n",
       "      <td>...</td>\n",
       "      <td></td>\n",
       "      <td>M</td>\n",
       "      <td>M</td>\n",
       "      <td>M</td>\n",
       "      <td>0.00</td>\n",
       "      <td>29.44</td>\n",
       "      <td>30.09</td>\n",
       "      <td>3.4</td>\n",
       "      <td>2</td>\n",
       "      <td>6.3</td>\n",
       "    </tr>\n",
       "    <tr>\n",
       "      <th>2901</th>\n",
       "      <td>2</td>\n",
       "      <td>2014-10-10</td>\n",
       "      <td>59</td>\n",
       "      <td>44</td>\n",
       "      <td>52</td>\n",
       "      <td>M</td>\n",
       "      <td>40</td>\n",
       "      <td>46</td>\n",
       "      <td>13</td>\n",
       "      <td>0</td>\n",
       "      <td>...</td>\n",
       "      <td></td>\n",
       "      <td>M</td>\n",
       "      <td>M</td>\n",
       "      <td>M</td>\n",
       "      <td>0.00</td>\n",
       "      <td>29.49</td>\n",
       "      <td>30.16</td>\n",
       "      <td>3.8</td>\n",
       "      <td>2</td>\n",
       "      <td>5.2</td>\n",
       "    </tr>\n",
       "    <tr>\n",
       "      <th>2903</th>\n",
       "      <td>2</td>\n",
       "      <td>2014-10-11</td>\n",
       "      <td>60</td>\n",
       "      <td>40</td>\n",
       "      <td>50</td>\n",
       "      <td>M</td>\n",
       "      <td>36</td>\n",
       "      <td>44</td>\n",
       "      <td>15</td>\n",
       "      <td>0</td>\n",
       "      <td>...</td>\n",
       "      <td></td>\n",
       "      <td>M</td>\n",
       "      <td>M</td>\n",
       "      <td>M</td>\n",
       "      <td>0.00</td>\n",
       "      <td>29.53</td>\n",
       "      <td>30.20</td>\n",
       "      <td>3.5</td>\n",
       "      <td>8</td>\n",
       "      <td>4.7</td>\n",
       "    </tr>\n",
       "    <tr>\n",
       "      <th>2905</th>\n",
       "      <td>2</td>\n",
       "      <td>2014-10-12</td>\n",
       "      <td>64</td>\n",
       "      <td>45</td>\n",
       "      <td>55</td>\n",
       "      <td>M</td>\n",
       "      <td>44</td>\n",
       "      <td>50</td>\n",
       "      <td>10</td>\n",
       "      <td>0</td>\n",
       "      <td>...</td>\n",
       "      <td>RA DZ BR</td>\n",
       "      <td>M</td>\n",
       "      <td>M</td>\n",
       "      <td>M</td>\n",
       "      <td>0.01</td>\n",
       "      <td>29.31</td>\n",
       "      <td>30.00</td>\n",
       "      <td>9.5</td>\n",
       "      <td>14</td>\n",
       "      <td>9.9</td>\n",
       "    </tr>\n",
       "    <tr>\n",
       "      <th>2907</th>\n",
       "      <td>2</td>\n",
       "      <td>2014-10-13</td>\n",
       "      <td>71</td>\n",
       "      <td>59</td>\n",
       "      <td>65</td>\n",
       "      <td>M</td>\n",
       "      <td>61</td>\n",
       "      <td>62</td>\n",
       "      <td>0</td>\n",
       "      <td>0</td>\n",
       "      <td>...</td>\n",
       "      <td>RA BR HZ</td>\n",
       "      <td>M</td>\n",
       "      <td>M</td>\n",
       "      <td>M</td>\n",
       "      <td>0.44</td>\n",
       "      <td>29.03</td>\n",
       "      <td>29.73</td>\n",
       "      <td>7.5</td>\n",
       "      <td>15</td>\n",
       "      <td>8.9</td>\n",
       "    </tr>\n",
       "    <tr>\n",
       "      <th>2909</th>\n",
       "      <td>2</td>\n",
       "      <td>2014-10-14</td>\n",
       "      <td>67</td>\n",
       "      <td>54</td>\n",
       "      <td>61</td>\n",
       "      <td>M</td>\n",
       "      <td>59</td>\n",
       "      <td>60</td>\n",
       "      <td>4</td>\n",
       "      <td>0</td>\n",
       "      <td>...</td>\n",
       "      <td>RA DZ BR</td>\n",
       "      <td>M</td>\n",
       "      <td>M</td>\n",
       "      <td>M</td>\n",
       "      <td>1.18</td>\n",
       "      <td>28.89</td>\n",
       "      <td>29.54</td>\n",
       "      <td>1.8</td>\n",
       "      <td>12</td>\n",
       "      <td>8.6</td>\n",
       "    </tr>\n",
       "    <tr>\n",
       "      <th>2911</th>\n",
       "      <td>2</td>\n",
       "      <td>2014-10-15</td>\n",
       "      <td>58</td>\n",
       "      <td>53</td>\n",
       "      <td>56</td>\n",
       "      <td>M</td>\n",
       "      <td>53</td>\n",
       "      <td>54</td>\n",
       "      <td>9</td>\n",
       "      <td>0</td>\n",
       "      <td>...</td>\n",
       "      <td>RA DZ BR</td>\n",
       "      <td>M</td>\n",
       "      <td>M</td>\n",
       "      <td>M</td>\n",
       "      <td>0.07</td>\n",
       "      <td>29.10</td>\n",
       "      <td>29.74</td>\n",
       "      <td>9.4</td>\n",
       "      <td>35</td>\n",
       "      <td>9.7</td>\n",
       "    </tr>\n",
       "    <tr>\n",
       "      <th>2913</th>\n",
       "      <td>2</td>\n",
       "      <td>2014-10-16</td>\n",
       "      <td>58</td>\n",
       "      <td>53</td>\n",
       "      <td>56</td>\n",
       "      <td>M</td>\n",
       "      <td>52</td>\n",
       "      <td>53</td>\n",
       "      <td>9</td>\n",
       "      <td>0</td>\n",
       "      <td>...</td>\n",
       "      <td>DZ BR</td>\n",
       "      <td>M</td>\n",
       "      <td>M</td>\n",
       "      <td>M</td>\n",
       "      <td>T</td>\n",
       "      <td>29.09</td>\n",
       "      <td>29.77</td>\n",
       "      <td>5.4</td>\n",
       "      <td>25</td>\n",
       "      <td>8.4</td>\n",
       "    </tr>\n",
       "    <tr>\n",
       "      <th>2915</th>\n",
       "      <td>2</td>\n",
       "      <td>2014-10-17</td>\n",
       "      <td>63</td>\n",
       "      <td>49</td>\n",
       "      <td>56</td>\n",
       "      <td>M</td>\n",
       "      <td>48</td>\n",
       "      <td>52</td>\n",
       "      <td>9</td>\n",
       "      <td>0</td>\n",
       "      <td>...</td>\n",
       "      <td></td>\n",
       "      <td>M</td>\n",
       "      <td>M</td>\n",
       "      <td>M</td>\n",
       "      <td>0.01</td>\n",
       "      <td>29.05</td>\n",
       "      <td>29.69</td>\n",
       "      <td>10.7</td>\n",
       "      <td>28</td>\n",
       "      <td>12.7</td>\n",
       "    </tr>\n",
       "    <tr>\n",
       "      <th>2917</th>\n",
       "      <td>2</td>\n",
       "      <td>2014-10-18</td>\n",
       "      <td>52</td>\n",
       "      <td>39</td>\n",
       "      <td>46</td>\n",
       "      <td>M</td>\n",
       "      <td>40</td>\n",
       "      <td>44</td>\n",
       "      <td>19</td>\n",
       "      <td>0</td>\n",
       "      <td>...</td>\n",
       "      <td>RA</td>\n",
       "      <td>M</td>\n",
       "      <td>M</td>\n",
       "      <td>M</td>\n",
       "      <td>0.02</td>\n",
       "      <td>29.44</td>\n",
       "      <td>30.08</td>\n",
       "      <td>7.6</td>\n",
       "      <td>34</td>\n",
       "      <td>8.7</td>\n",
       "    </tr>\n",
       "    <tr>\n",
       "      <th>2919</th>\n",
       "      <td>2</td>\n",
       "      <td>2014-10-19</td>\n",
       "      <td>57</td>\n",
       "      <td>36</td>\n",
       "      <td>47</td>\n",
       "      <td>M</td>\n",
       "      <td>40</td>\n",
       "      <td>44</td>\n",
       "      <td>18</td>\n",
       "      <td>0</td>\n",
       "      <td>...</td>\n",
       "      <td></td>\n",
       "      <td>M</td>\n",
       "      <td>M</td>\n",
       "      <td>M</td>\n",
       "      <td>0.00</td>\n",
       "      <td>29.39</td>\n",
       "      <td>30.09</td>\n",
       "      <td>8.8</td>\n",
       "      <td>21</td>\n",
       "      <td>9.0</td>\n",
       "    </tr>\n",
       "    <tr>\n",
       "      <th>2921</th>\n",
       "      <td>2</td>\n",
       "      <td>2014-10-20</td>\n",
       "      <td>66</td>\n",
       "      <td>50</td>\n",
       "      <td>58</td>\n",
       "      <td>M</td>\n",
       "      <td>46</td>\n",
       "      <td>51</td>\n",
       "      <td>7</td>\n",
       "      <td>0</td>\n",
       "      <td>...</td>\n",
       "      <td></td>\n",
       "      <td>M</td>\n",
       "      <td>M</td>\n",
       "      <td>M</td>\n",
       "      <td>0.00</td>\n",
       "      <td>29.23</td>\n",
       "      <td>29.90</td>\n",
       "      <td>4.9</td>\n",
       "      <td>32</td>\n",
       "      <td>9.1</td>\n",
       "    </tr>\n",
       "    <tr>\n",
       "      <th>2923</th>\n",
       "      <td>2</td>\n",
       "      <td>2014-10-21</td>\n",
       "      <td>54</td>\n",
       "      <td>49</td>\n",
       "      <td>52</td>\n",
       "      <td>M</td>\n",
       "      <td>41</td>\n",
       "      <td>46</td>\n",
       "      <td>13</td>\n",
       "      <td>0</td>\n",
       "      <td>...</td>\n",
       "      <td></td>\n",
       "      <td>M</td>\n",
       "      <td>M</td>\n",
       "      <td>M</td>\n",
       "      <td>0.00</td>\n",
       "      <td>29.51</td>\n",
       "      <td>30.15</td>\n",
       "      <td>11.0</td>\n",
       "      <td>36</td>\n",
       "      <td>11.6</td>\n",
       "    </tr>\n",
       "    <tr>\n",
       "      <th>2925</th>\n",
       "      <td>2</td>\n",
       "      <td>2014-10-22</td>\n",
       "      <td>56</td>\n",
       "      <td>43</td>\n",
       "      <td>50</td>\n",
       "      <td>M</td>\n",
       "      <td>38</td>\n",
       "      <td>44</td>\n",
       "      <td>15</td>\n",
       "      <td>0</td>\n",
       "      <td>...</td>\n",
       "      <td></td>\n",
       "      <td>M</td>\n",
       "      <td>M</td>\n",
       "      <td>M</td>\n",
       "      <td>0.00</td>\n",
       "      <td>29.62</td>\n",
       "      <td>30.30</td>\n",
       "      <td>3.0</td>\n",
       "      <td>11</td>\n",
       "      <td>5.1</td>\n",
       "    </tr>\n",
       "    <tr>\n",
       "      <th>2927</th>\n",
       "      <td>2</td>\n",
       "      <td>2014-10-23</td>\n",
       "      <td>62</td>\n",
       "      <td>41</td>\n",
       "      <td>52</td>\n",
       "      <td>M</td>\n",
       "      <td>41</td>\n",
       "      <td>47</td>\n",
       "      <td>13</td>\n",
       "      <td>0</td>\n",
       "      <td>...</td>\n",
       "      <td>BR</td>\n",
       "      <td>M</td>\n",
       "      <td>M</td>\n",
       "      <td>M</td>\n",
       "      <td>T</td>\n",
       "      <td>29.46</td>\n",
       "      <td>30.16</td>\n",
       "      <td>7.9</td>\n",
       "      <td>19</td>\n",
       "      <td>8.4</td>\n",
       "    </tr>\n",
       "    <tr>\n",
       "      <th>2929</th>\n",
       "      <td>2</td>\n",
       "      <td>2014-10-24</td>\n",
       "      <td>68</td>\n",
       "      <td>54</td>\n",
       "      <td>61</td>\n",
       "      <td>M</td>\n",
       "      <td>48</td>\n",
       "      <td>53</td>\n",
       "      <td>4</td>\n",
       "      <td>0</td>\n",
       "      <td>...</td>\n",
       "      <td></td>\n",
       "      <td>M</td>\n",
       "      <td>M</td>\n",
       "      <td>M</td>\n",
       "      <td>0.00</td>\n",
       "      <td>29.31</td>\n",
       "      <td>30.00</td>\n",
       "      <td>4.9</td>\n",
       "      <td>22</td>\n",
       "      <td>5.8</td>\n",
       "    </tr>\n",
       "    <tr>\n",
       "      <th>2931</th>\n",
       "      <td>2</td>\n",
       "      <td>2014-10-25</td>\n",
       "      <td>75</td>\n",
       "      <td>52</td>\n",
       "      <td>64</td>\n",
       "      <td>M</td>\n",
       "      <td>41</td>\n",
       "      <td>52</td>\n",
       "      <td>1</td>\n",
       "      <td>0</td>\n",
       "      <td>...</td>\n",
       "      <td>BR HZ</td>\n",
       "      <td>M</td>\n",
       "      <td>M</td>\n",
       "      <td>M</td>\n",
       "      <td>0.00</td>\n",
       "      <td>29.27</td>\n",
       "      <td>29.92</td>\n",
       "      <td>9.7</td>\n",
       "      <td>28</td>\n",
       "      <td>10.4</td>\n",
       "    </tr>\n",
       "    <tr>\n",
       "      <th>2933</th>\n",
       "      <td>2</td>\n",
       "      <td>2014-10-26</td>\n",
       "      <td>66</td>\n",
       "      <td>44</td>\n",
       "      <td>55</td>\n",
       "      <td>M</td>\n",
       "      <td>33</td>\n",
       "      <td>45</td>\n",
       "      <td>10</td>\n",
       "      <td>0</td>\n",
       "      <td>...</td>\n",
       "      <td></td>\n",
       "      <td>M</td>\n",
       "      <td>M</td>\n",
       "      <td>M</td>\n",
       "      <td>0.00</td>\n",
       "      <td>29.28</td>\n",
       "      <td>29.95</td>\n",
       "      <td>1.6</td>\n",
       "      <td>11</td>\n",
       "      <td>5.4</td>\n",
       "    </tr>\n",
       "    <tr>\n",
       "      <th>2935</th>\n",
       "      <td>2</td>\n",
       "      <td>2014-10-27</td>\n",
       "      <td>79</td>\n",
       "      <td>54</td>\n",
       "      <td>67</td>\n",
       "      <td>M</td>\n",
       "      <td>52</td>\n",
       "      <td>59</td>\n",
       "      <td>0</td>\n",
       "      <td>2</td>\n",
       "      <td>...</td>\n",
       "      <td>RA</td>\n",
       "      <td>M</td>\n",
       "      <td>M</td>\n",
       "      <td>M</td>\n",
       "      <td>0.02</td>\n",
       "      <td>29.00</td>\n",
       "      <td>29.67</td>\n",
       "      <td>12.7</td>\n",
       "      <td>19</td>\n",
       "      <td>13.6</td>\n",
       "    </tr>\n",
       "    <tr>\n",
       "      <th>2937</th>\n",
       "      <td>2</td>\n",
       "      <td>2014-10-28</td>\n",
       "      <td>66</td>\n",
       "      <td>48</td>\n",
       "      <td>57</td>\n",
       "      <td>M</td>\n",
       "      <td>40</td>\n",
       "      <td>48</td>\n",
       "      <td>8</td>\n",
       "      <td>0</td>\n",
       "      <td>...</td>\n",
       "      <td>RA</td>\n",
       "      <td>M</td>\n",
       "      <td>M</td>\n",
       "      <td>M</td>\n",
       "      <td>0.03</td>\n",
       "      <td>29.23</td>\n",
       "      <td>29.85</td>\n",
       "      <td>14.0</td>\n",
       "      <td>26</td>\n",
       "      <td>14.6</td>\n",
       "    </tr>\n",
       "    <tr>\n",
       "      <th>2939</th>\n",
       "      <td>2</td>\n",
       "      <td>2014-10-29</td>\n",
       "      <td>49</td>\n",
       "      <td>40</td>\n",
       "      <td>45</td>\n",
       "      <td>M</td>\n",
       "      <td>34</td>\n",
       "      <td>42</td>\n",
       "      <td>20</td>\n",
       "      <td>0</td>\n",
       "      <td>...</td>\n",
       "      <td></td>\n",
       "      <td>M</td>\n",
       "      <td>M</td>\n",
       "      <td>M</td>\n",
       "      <td>0.00</td>\n",
       "      <td>29.42</td>\n",
       "      <td>30.07</td>\n",
       "      <td>8.5</td>\n",
       "      <td>29</td>\n",
       "      <td>9.0</td>\n",
       "    </tr>\n",
       "    <tr>\n",
       "      <th>2941</th>\n",
       "      <td>2</td>\n",
       "      <td>2014-10-30</td>\n",
       "      <td>53</td>\n",
       "      <td>37</td>\n",
       "      <td>45</td>\n",
       "      <td>M</td>\n",
       "      <td>35</td>\n",
       "      <td>42</td>\n",
       "      <td>20</td>\n",
       "      <td>0</td>\n",
       "      <td>...</td>\n",
       "      <td>RA</td>\n",
       "      <td>M</td>\n",
       "      <td>M</td>\n",
       "      <td>M</td>\n",
       "      <td>T</td>\n",
       "      <td>29.41</td>\n",
       "      <td>30.10</td>\n",
       "      <td>5.9</td>\n",
       "      <td>23</td>\n",
       "      <td>6.5</td>\n",
       "    </tr>\n",
       "    <tr>\n",
       "      <th>2943</th>\n",
       "      <td>2</td>\n",
       "      <td>2014-10-31</td>\n",
       "      <td>49</td>\n",
       "      <td>34</td>\n",
       "      <td>42</td>\n",
       "      <td>M</td>\n",
       "      <td>29</td>\n",
       "      <td>36</td>\n",
       "      <td>23</td>\n",
       "      <td>0</td>\n",
       "      <td>...</td>\n",
       "      <td>RA SN BR</td>\n",
       "      <td>M</td>\n",
       "      <td>M</td>\n",
       "      <td>M</td>\n",
       "      <td>0.04</td>\n",
       "      <td>29.54</td>\n",
       "      <td>30.20</td>\n",
       "      <td>21.7</td>\n",
       "      <td>34</td>\n",
       "      <td>22.6</td>\n",
       "    </tr>\n",
       "  </tbody>\n",
       "</table>\n",
       "<p>1472 rows × 22 columns</p>\n",
       "</div>"
      ],
      "text/plain": [
       "      Station        Date  Tmax  Tmin Tavg Depart  DewPoint WetBulb Heat Cool  \\\n",
       "1           2  2007-05-01    84    52   68      M        51      57    0    3   \n",
       "3           2  2007-05-02    60    43   52      M        42      47   13    0   \n",
       "5           2  2007-05-03    67    48   58      M        40      50    7    0   \n",
       "7           2  2007-05-04    78    51    M      M        42      50    M    M   \n",
       "9           2  2007-05-05    66    54   60      M        39      50    5    0   \n",
       "11          2  2007-05-06    68    52   60      M        30      46    5    0   \n",
       "13          2  2007-05-07    84    50   67      M        39      53    0    2   \n",
       "15          2  2007-05-08    80    60   70      M        57      63    0    5   \n",
       "17          2  2007-05-09    76    63   70      M        60      63    0    5   \n",
       "19          2  2007-05-10    83    59   71      M        52      61    0    6   \n",
       "21          2  2007-05-11    73    49   61      M        44      51    4    0   \n",
       "23          2  2007-05-12    65    47   56      M        37      46    9    0   \n",
       "25          2  2007-05-13    69    44   57      M        32      46    8    0   \n",
       "27          2  2007-05-14    90    54   72      M        45      58    0    7   \n",
       "29          2  2007-05-15    82    56   69      M        56      61    0    4   \n",
       "31          2  2007-05-16    64    45   55      M        42      47   10    0   \n",
       "33          2  2007-05-17    61    44   53      M        32      43   12    0   \n",
       "35          2  2007-05-18    70    43   57      M        31      47    8    0   \n",
       "37          2  2007-05-19    80    56   68      M        37      53    0    3   \n",
       "39          2  2007-05-20    69    44   57      M        41      45    8    0   \n",
       "41          2  2007-05-21    79    46   63      M        50      57    2    0   \n",
       "43          2  2007-05-22    87    60   74      M        44      58    0    9   \n",
       "45          2  2007-05-23    89    66   78      M        48      61    0   13   \n",
       "47          2  2007-05-24    88    66   77      M        53      63    0   12   \n",
       "49          2  2007-05-25    66    57   62      M        46      53    3    0   \n",
       "51          2  2007-05-26    70    50   60      M        55      57    5    0   \n",
       "53          2  2007-05-27    75    59   67      M        49      57    0    2   \n",
       "55          2  2007-05-28    76    54   65      M        49      57    0    0   \n",
       "57          2  2007-05-29    88    65   77      M        59      66    0   12   \n",
       "59          2  2007-05-30    89    70   80      M        57      66    0   15   \n",
       "...       ...         ...   ...   ...  ...    ...       ...     ...  ...  ...   \n",
       "2885        2  2014-10-02    75    66   71      M        63      65    0    6   \n",
       "2887        2  2014-10-03    68    46   57      M        47      52    8    0   \n",
       "2889        2  2014-10-04    49    37   43      M        35      41   22    0   \n",
       "2891        2  2014-10-05    56    42   49      M        36      44   16    0   \n",
       "2893        2  2014-10-06    63    48   56      M        40      47    9    0   \n",
       "2895        2  2014-10-07    69    49   59      M        45      51    6    0   \n",
       "2897        2  2014-10-08    67    48   58      M        36      48    7    0   \n",
       "2899        2  2014-10-09    64    50   57      M        36      46    8    0   \n",
       "2901        2  2014-10-10    59    44   52      M        40      46   13    0   \n",
       "2903        2  2014-10-11    60    40   50      M        36      44   15    0   \n",
       "2905        2  2014-10-12    64    45   55      M        44      50   10    0   \n",
       "2907        2  2014-10-13    71    59   65      M        61      62    0    0   \n",
       "2909        2  2014-10-14    67    54   61      M        59      60    4    0   \n",
       "2911        2  2014-10-15    58    53   56      M        53      54    9    0   \n",
       "2913        2  2014-10-16    58    53   56      M        52      53    9    0   \n",
       "2915        2  2014-10-17    63    49   56      M        48      52    9    0   \n",
       "2917        2  2014-10-18    52    39   46      M        40      44   19    0   \n",
       "2919        2  2014-10-19    57    36   47      M        40      44   18    0   \n",
       "2921        2  2014-10-20    66    50   58      M        46      51    7    0   \n",
       "2923        2  2014-10-21    54    49   52      M        41      46   13    0   \n",
       "2925        2  2014-10-22    56    43   50      M        38      44   15    0   \n",
       "2927        2  2014-10-23    62    41   52      M        41      47   13    0   \n",
       "2929        2  2014-10-24    68    54   61      M        48      53    4    0   \n",
       "2931        2  2014-10-25    75    52   64      M        41      52    1    0   \n",
       "2933        2  2014-10-26    66    44   55      M        33      45   10    0   \n",
       "2935        2  2014-10-27    79    54   67      M        52      59    0    2   \n",
       "2937        2  2014-10-28    66    48   57      M        40      48    8    0   \n",
       "2939        2  2014-10-29    49    40   45      M        34      42   20    0   \n",
       "2941        2  2014-10-30    53    37   45      M        35      42   20    0   \n",
       "2943        2  2014-10-31    49    34   42      M        29      36   23    0   \n",
       "\n",
       "        ...        CodeSum Depth Water1 SnowFall PrecipTotal StnPressure  \\\n",
       "1       ...                    M      M        M        0.00       29.18   \n",
       "3       ...          BR HZ     M      M        M        0.00       29.44   \n",
       "5       ...             HZ     M      M        M        0.00       29.46   \n",
       "7       ...                    M      M        M        0.00       29.36   \n",
       "9       ...                    M      M        M           T       29.46   \n",
       "11      ...                    M      M        M        0.00       29.62   \n",
       "13      ...                    M      M        M        0.00       29.44   \n",
       "15      ...             HZ     M      M        M           T       29.36   \n",
       "17      ...          BR HZ     M      M        M        0.02       29.28   \n",
       "19      ...          BR HZ     M      M        M        0.00       29.26   \n",
       "21      ...                    M      M        M        0.00       29.39   \n",
       "23      ...                    M      M        M        0.00       29.54   \n",
       "25      ...                    M      M        M        0.00       29.55   \n",
       "27      ...                    M      M        M        0.00       29.31   \n",
       "29      ...     TSRA RA BR     M      M        M        0.60       29.19   \n",
       "31      ...          RA BR     M      M        M        0.07       29.39   \n",
       "33      ...                    M      M        M        0.00       29.62   \n",
       "35      ...                    M      M        M        0.00       29.60   \n",
       "37      ...                    M      M        M        0.00       29.41   \n",
       "39      ...        TSRA RA     M      M        M        0.11       29.44   \n",
       "41      ...                    M      M        M        0.00       29.39   \n",
       "43      ...                    M      M        M        0.00       29.41   \n",
       "45      ...                    M      M        M        0.00       29.47   \n",
       "47      ...          RA HZ     M      M        M           T       29.47   \n",
       "49      ...          RA BR     M      M        M        0.09       29.57   \n",
       "51      ...     TSRA RA BR     M      M        M        0.28       29.42   \n",
       "53      ...          RA BR     M      M        M        0.08       29.41   \n",
       "55      ...                    M      M        M        0.00       29.49   \n",
       "57      ...          BR HZ     M      M        M        0.00       29.44   \n",
       "59      ...             HZ     M      M        M        0.00       29.38   \n",
       "...     ...            ...   ...    ...      ...         ...         ...   \n",
       "2885    ...     TSRA RA BR     M      M        M        0.72       29.10   \n",
       "2887    ...          RA BR     M      M        M        1.05       29.02   \n",
       "2889    ...          RA DZ     M      M        M        0.05       29.07   \n",
       "2891    ...             RA     M      M        M           T       29.02   \n",
       "2893    ...                    M      M        M        0.01       28.95   \n",
       "2895    ...                    M      M        M        0.00       29.06   \n",
       "2897    ...                    M      M        M        0.00       29.34   \n",
       "2899    ...                    M      M        M        0.00       29.44   \n",
       "2901    ...                    M      M        M        0.00       29.49   \n",
       "2903    ...                    M      M        M        0.00       29.53   \n",
       "2905    ...       RA DZ BR     M      M        M        0.01       29.31   \n",
       "2907    ...       RA BR HZ     M      M        M        0.44       29.03   \n",
       "2909    ...       RA DZ BR     M      M        M        1.18       28.89   \n",
       "2911    ...       RA DZ BR     M      M        M        0.07       29.10   \n",
       "2913    ...          DZ BR     M      M        M           T       29.09   \n",
       "2915    ...                    M      M        M        0.01       29.05   \n",
       "2917    ...             RA     M      M        M        0.02       29.44   \n",
       "2919    ...                    M      M        M        0.00       29.39   \n",
       "2921    ...                    M      M        M        0.00       29.23   \n",
       "2923    ...                    M      M        M        0.00       29.51   \n",
       "2925    ...                    M      M        M        0.00       29.62   \n",
       "2927    ...             BR     M      M        M           T       29.46   \n",
       "2929    ...                    M      M        M        0.00       29.31   \n",
       "2931    ...          BR HZ     M      M        M        0.00       29.27   \n",
       "2933    ...                    M      M        M        0.00       29.28   \n",
       "2935    ...             RA     M      M        M        0.02       29.00   \n",
       "2937    ...             RA     M      M        M        0.03       29.23   \n",
       "2939    ...                    M      M        M        0.00       29.42   \n",
       "2941    ...             RA     M      M        M           T       29.41   \n",
       "2943    ...       RA SN BR     M      M        M        0.04       29.54   \n",
       "\n",
       "     SeaLevel ResultSpeed ResultDir  AvgSpeed  \n",
       "1       29.82         2.7        25       9.6  \n",
       "3       30.08        13.3         2      13.4  \n",
       "5       30.12        12.9         6      13.2  \n",
       "7       30.04        10.1         7      10.4  \n",
       "9       30.09        11.2         7      11.5  \n",
       "11      30.28        13.8        10      14.5  \n",
       "13      30.12         8.5        17       9.9  \n",
       "15      30.02         2.5         8       5.4  \n",
       "17      29.93         3.9         7       5.9  \n",
       "19      29.91         2.0         9       3.9  \n",
       "21      30.03        11.7        36      12.8  \n",
       "23      30.19        12.7         1      13.0  \n",
       "25      30.24         6.4        11       7.6  \n",
       "27      29.98        14.1        21      14.6  \n",
       "29      29.83         8.1        25      10.8  \n",
       "31      30.03         8.0        36      11.8  \n",
       "33      30.27        11.7         1      12.2  \n",
       "35      30.26         3.4        22       5.5  \n",
       "37      30.08        11.1        23      11.4  \n",
       "39      30.11         8.6         3       9.7  \n",
       "41      30.05         6.3        10       7.8  \n",
       "43      30.05        10.1        16      10.6  \n",
       "45      30.10        10.9        18      11.2  \n",
       "47      30.10        13.8        20      15.2  \n",
       "49      30.23         4.5         5       8.2  \n",
       "51      30.10         2.5        15       7.8  \n",
       "53      30.05         8.2        24       9.2  \n",
       "55      30.14         4.7         8       5.2  \n",
       "57      30.09         5.8        16       7.4  \n",
       "59      30.03         9.7        17      10.1  \n",
       "...       ...         ...       ...       ...  \n",
       "2885    29.78         7.2        17       7.9  \n",
       "2887    29.66        14.0        28      15.6  \n",
       "2889    29.74        13.6        25      13.5  \n",
       "2891    29.70        10.1        23      10.7  \n",
       "2893    29.62         9.5        23      10.5  \n",
       "2895    29.70        10.3        24      11.7  \n",
       "2897    29.97        10.7        27      11.2  \n",
       "2899    30.09         3.4         2       6.3  \n",
       "2901    30.16         3.8         2       5.2  \n",
       "2903    30.20         3.5         8       4.7  \n",
       "2905    30.00         9.5        14       9.9  \n",
       "2907    29.73         7.5        15       8.9  \n",
       "2909    29.54         1.8        12       8.6  \n",
       "2911    29.74         9.4        35       9.7  \n",
       "2913    29.77         5.4        25       8.4  \n",
       "2915    29.69        10.7        28      12.7  \n",
       "2917    30.08         7.6        34       8.7  \n",
       "2919    30.09         8.8        21       9.0  \n",
       "2921    29.90         4.9        32       9.1  \n",
       "2923    30.15        11.0        36      11.6  \n",
       "2925    30.30         3.0        11       5.1  \n",
       "2927    30.16         7.9        19       8.4  \n",
       "2929    30.00         4.9        22       5.8  \n",
       "2931    29.92         9.7        28      10.4  \n",
       "2933    29.95         1.6        11       5.4  \n",
       "2935    29.67        12.7        19      13.6  \n",
       "2937    29.85        14.0        26      14.6  \n",
       "2939    30.07         8.5        29       9.0  \n",
       "2941    30.10         5.9        23       6.5  \n",
       "2943    30.20        21.7        34      22.6  \n",
       "\n",
       "[1472 rows x 22 columns]"
      ]
     },
     "execution_count": 19,
     "metadata": {},
     "output_type": "execute_result"
    }
   ],
   "source": [
    "weather[weather[\"Depart\"] == \"M\"]"
   ]
  },
  {
   "cell_type": "code",
   "execution_count": 20,
   "metadata": {},
   "outputs": [
    {
     "data": {
      "text/html": [
       "<div>\n",
       "<style scoped>\n",
       "    .dataframe tbody tr th:only-of-type {\n",
       "        vertical-align: middle;\n",
       "    }\n",
       "\n",
       "    .dataframe tbody tr th {\n",
       "        vertical-align: top;\n",
       "    }\n",
       "\n",
       "    .dataframe thead th {\n",
       "        text-align: right;\n",
       "    }\n",
       "</style>\n",
       "<table border=\"1\" class=\"dataframe\">\n",
       "  <thead>\n",
       "    <tr style=\"text-align: right;\">\n",
       "      <th></th>\n",
       "      <th>Station</th>\n",
       "      <th>Date</th>\n",
       "      <th>Tmax</th>\n",
       "      <th>Tmin</th>\n",
       "      <th>Tavg</th>\n",
       "      <th>Depart</th>\n",
       "      <th>DewPoint</th>\n",
       "      <th>WetBulb</th>\n",
       "      <th>Heat</th>\n",
       "      <th>Cool</th>\n",
       "      <th>...</th>\n",
       "      <th>CodeSum</th>\n",
       "      <th>Depth</th>\n",
       "      <th>Water1</th>\n",
       "      <th>SnowFall</th>\n",
       "      <th>PrecipTotal</th>\n",
       "      <th>StnPressure</th>\n",
       "      <th>SeaLevel</th>\n",
       "      <th>ResultSpeed</th>\n",
       "      <th>ResultDir</th>\n",
       "      <th>AvgSpeed</th>\n",
       "    </tr>\n",
       "  </thead>\n",
       "  <tbody>\n",
       "  </tbody>\n",
       "</table>\n",
       "<p>0 rows × 22 columns</p>\n",
       "</div>"
      ],
      "text/plain": [
       "Empty DataFrame\n",
       "Columns: [Station, Date, Tmax, Tmin, Tavg, Depart, DewPoint, WetBulb, Heat, Cool, Sunrise, Sunset, CodeSum, Depth, Water1, SnowFall, PrecipTotal, StnPressure, SeaLevel, ResultSpeed, ResultDir, AvgSpeed]\n",
       "Index: []\n",
       "\n",
       "[0 rows x 22 columns]"
      ]
     },
     "execution_count": 20,
     "metadata": {},
     "output_type": "execute_result"
    }
   ],
   "source": [
    "weather[weather[\"Depart\"] == \"T\"]"
   ]
  },
  {
   "cell_type": "code",
   "execution_count": 21,
   "metadata": {},
   "outputs": [
    {
     "data": {
      "text/plain": [
       "59    128\n",
       "54    125\n",
       "55    114\n",
       "60    113\n",
       "61    110\n",
       "Name: DewPoint, dtype: int64"
      ]
     },
     "execution_count": 21,
     "metadata": {},
     "output_type": "execute_result"
    }
   ],
   "source": [
    "weather[\"DewPoint\"].value_counts().sort_values(ascending=False).head()"
   ]
  },
  {
   "cell_type": "code",
   "execution_count": 22,
   "metadata": {},
   "outputs": [
    {
     "data": {
      "text/plain": [
       "63    135\n",
       "65    131\n",
       "59    129\n",
       "61    123\n",
       "64    121\n",
       "Name: WetBulb, dtype: int64"
      ]
     },
     "execution_count": 22,
     "metadata": {},
     "output_type": "execute_result"
    }
   ],
   "source": [
    "weather[\"WetBulb\"].value_counts().sort_values(ascending=False).head()"
   ]
  },
  {
   "cell_type": "code",
   "execution_count": null,
   "metadata": {},
   "outputs": [],
   "source": [
    "# weather[weather[\"WetBulb\"] == \"M\"]"
   ]
  },
  {
   "cell_type": "code",
   "execution_count": null,
   "metadata": {},
   "outputs": [],
   "source": [
    "# weather[weather[\"WetBulb\"] == \"T\"]"
   ]
  },
  {
   "cell_type": "code",
   "execution_count": 23,
   "metadata": {
    "collapsed": true
   },
   "outputs": [
    {
     "data": {
      "text/plain": [
       "0     1870\n",
       "4       88\n",
       "1       86\n",
       "2       81\n",
       "8       67\n",
       "3       66\n",
       "5       61\n",
       "15      57\n",
       "7       49\n",
       "12      49\n",
       "10      48\n",
       "11      48\n",
       "13      46\n",
       "9       46\n",
       "6       45\n",
       "14      36\n",
       "16      29\n",
       "20      28\n",
       "19      24\n",
       "18      24\n",
       "21      19\n",
       "17      17\n",
       "23      15\n",
       "22      12\n",
       "M       11\n",
       "24       7\n",
       "25       5\n",
       "26       4\n",
       "29       2\n",
       "27       2\n",
       "28       2\n",
       "Name: Heat, dtype: int64"
      ]
     },
     "execution_count": 23,
     "metadata": {},
     "output_type": "execute_result"
    }
   ],
   "source": [
    "weather[\"Heat\"].value_counts().sort_values(ascending=False)"
   ]
  },
  {
   "cell_type": "code",
   "execution_count": null,
   "metadata": {},
   "outputs": [],
   "source": [
    "# weather[weather[\"Heat\"] == \"M\"]"
   ]
  },
  {
   "cell_type": "code",
   "execution_count": 25,
   "metadata": {},
   "outputs": [
    {
     "data": {
      "text/html": [
       "<div>\n",
       "<style scoped>\n",
       "    .dataframe tbody tr th:only-of-type {\n",
       "        vertical-align: middle;\n",
       "    }\n",
       "\n",
       "    .dataframe tbody tr th {\n",
       "        vertical-align: top;\n",
       "    }\n",
       "\n",
       "    .dataframe thead th {\n",
       "        text-align: right;\n",
       "    }\n",
       "</style>\n",
       "<table border=\"1\" class=\"dataframe\">\n",
       "  <thead>\n",
       "    <tr style=\"text-align: right;\">\n",
       "      <th></th>\n",
       "      <th>Station</th>\n",
       "      <th>Date</th>\n",
       "      <th>Tmax</th>\n",
       "      <th>Tmin</th>\n",
       "      <th>Tavg</th>\n",
       "      <th>Depart</th>\n",
       "      <th>DewPoint</th>\n",
       "      <th>WetBulb</th>\n",
       "      <th>Heat</th>\n",
       "      <th>Cool</th>\n",
       "      <th>...</th>\n",
       "      <th>CodeSum</th>\n",
       "      <th>Depth</th>\n",
       "      <th>Water1</th>\n",
       "      <th>SnowFall</th>\n",
       "      <th>PrecipTotal</th>\n",
       "      <th>StnPressure</th>\n",
       "      <th>SeaLevel</th>\n",
       "      <th>ResultSpeed</th>\n",
       "      <th>ResultDir</th>\n",
       "      <th>AvgSpeed</th>\n",
       "    </tr>\n",
       "  </thead>\n",
       "  <tbody>\n",
       "  </tbody>\n",
       "</table>\n",
       "<p>0 rows × 22 columns</p>\n",
       "</div>"
      ],
      "text/plain": [
       "Empty DataFrame\n",
       "Columns: [Station, Date, Tmax, Tmin, Tavg, Depart, DewPoint, WetBulb, Heat, Cool, Sunrise, Sunset, CodeSum, Depth, Water1, SnowFall, PrecipTotal, StnPressure, SeaLevel, ResultSpeed, ResultDir, AvgSpeed]\n",
       "Index: []\n",
       "\n",
       "[0 rows x 22 columns]"
      ]
     },
     "execution_count": 25,
     "metadata": {},
     "output_type": "execute_result"
    }
   ],
   "source": [
    "weather[weather[\"Heat\"] == \"T\"]"
   ]
  },
  {
   "cell_type": "code",
   "execution_count": null,
   "metadata": {},
   "outputs": [],
   "source": [
    "weather[\"Cool\"].value_counts().sort_values(ascending=False)"
   ]
  },
  {
   "cell_type": "code",
   "execution_count": null,
   "metadata": {},
   "outputs": [],
   "source": [
    "weather[\"Sunrise\"].value_counts().sort_values(ascending=False).head()"
   ]
  },
  {
   "cell_type": "code",
   "execution_count": null,
   "metadata": {},
   "outputs": [],
   "source": [
    "weather[\"Sunset\"].value_counts().sort_values(ascending=False).head()"
   ]
  },
  {
   "cell_type": "code",
   "execution_count": null,
   "metadata": {},
   "outputs": [],
   "source": [
    "weather[\"Depth\"].value_counts()"
   ]
  },
  {
   "cell_type": "code",
   "execution_count": null,
   "metadata": {},
   "outputs": [],
   "source": [
    "weather[\"SnowFall\"].value_counts()"
   ]
  },
  {
   "cell_type": "code",
   "execution_count": null,
   "metadata": {},
   "outputs": [],
   "source": [
    "#Drop column\n",
    "weather[\"Water1\"].value_counts()"
   ]
  },
  {
   "cell_type": "code",
   "execution_count": null,
   "metadata": {},
   "outputs": [],
   "source": [
    "#Drop column\n",
    "weather[\"CodeSum\"].value_counts().head()"
   ]
  },
  {
   "cell_type": "code",
   "execution_count": null,
   "metadata": {},
   "outputs": [],
   "source": [
    "weather[\"PrecipTotal\"].value_counts().sort_values(ascending=False).head()"
   ]
  },
  {
   "cell_type": "code",
   "execution_count": null,
   "metadata": {},
   "outputs": [],
   "source": [
    "weather[\"StnPressure\"].value_counts().sort_values(ascending=False).head()"
   ]
  },
  {
   "cell_type": "code",
   "execution_count": null,
   "metadata": {},
   "outputs": [],
   "source": [
    "weather[\"SeaLevel\"].value_counts().sort_values(ascending=False).head()"
   ]
  },
  {
   "cell_type": "code",
   "execution_count": null,
   "metadata": {},
   "outputs": [],
   "source": [
    "weather[\"ResultSpeed\"].value_counts().sort_values(ascending=False).head()"
   ]
  },
  {
   "cell_type": "code",
   "execution_count": null,
   "metadata": {},
   "outputs": [],
   "source": [
    "weather[\"ResultDir\"].value_counts().sort_values(ascending=False).head()"
   ]
  },
  {
   "cell_type": "code",
   "execution_count": 24,
   "metadata": {},
   "outputs": [
    {
     "data": {
      "text/plain": [
       "6.9    63\n",
       "5.8    60\n",
       "7.4    55\n",
       "8.1    49\n",
       "7.0    47\n",
       "Name: AvgSpeed, dtype: int64"
      ]
     },
     "execution_count": 24,
     "metadata": {},
     "output_type": "execute_result"
    }
   ],
   "source": [
    "weather[\"AvgSpeed\"].value_counts().sort_values(ascending=False).head()"
   ]
  },
  {
   "cell_type": "code",
   "execution_count": null,
   "metadata": {},
   "outputs": [],
   "source": [
    "weather.replace(\"T\", 1e-3, inplace = True)\n",
    "weather.replace(\" T\", 1e-3, inplace = True)\n",
    "weather.replace(\"  T\", 1e-3, inplace = True)"
   ]
  },
  {
   "cell_type": "code",
   "execution_count": null,
   "metadata": {},
   "outputs": [],
   "source": [
    "weather.drop(\"CodeSum\", axis = 1, inplace = True)"
   ]
  },
  {
   "cell_type": "code",
   "execution_count": null,
   "metadata": {},
   "outputs": [],
   "source": [
    "weather.drop(\"Water1\", axis = 1, inplace = True)"
   ]
  },
  {
   "cell_type": "code",
   "execution_count": null,
   "metadata": {},
   "outputs": [],
   "source": [
    "weather.drop(\"SnowFall\", axis = 1, inplace = True)"
   ]
  },
  {
   "cell_type": "code",
   "execution_count": null,
   "metadata": {},
   "outputs": [],
   "source": [
    "weather.drop(\"Depth\", axis = 1, inplace = True)"
   ]
  },
  {
   "cell_type": "code",
   "execution_count": null,
   "metadata": {},
   "outputs": [],
   "source": [
    "weather"
   ]
  },
  {
   "cell_type": "code",
   "execution_count": null,
   "metadata": {},
   "outputs": [],
   "source": [
    "weather_1 = weather[weather['Station']==1]\n",
    "weather_2 = weather[weather['Station']==2]"
   ]
  },
  {
   "cell_type": "code",
   "execution_count": null,
   "metadata": {},
   "outputs": [],
   "source": [
    "weather_combined = weather_1.merge(weather_2, on='Date', suffixes=(\"_1\", \"_2\"))"
   ]
  },
  {
   "cell_type": "code",
   "execution_count": null,
   "metadata": {},
   "outputs": [],
   "source": [
    "weather_combined.shape\n",
    "pd.set_option(\"display.max_columns\", 40)\n",
    "weather_combined.head()"
   ]
  },
  {
   "cell_type": "code",
   "execution_count": null,
   "metadata": {},
   "outputs": [],
   "source": [
    "weather_combined.drop(\"Station_1\", axis = 1, inplace = True)\n",
    "weather_combined.drop(\"Station_2\", axis = 1, inplace = True)"
   ]
  },
  {
   "cell_type": "code",
   "execution_count": null,
   "metadata": {},
   "outputs": [],
   "source": [
    "weather_combined[\"Tavg_2\"].replace(\"M\", (weather_combined[\"Tmax_2\"] + weather_combined[\"Tmin_2\"])/2, inplace=True)"
   ]
  },
  {
   "cell_type": "code",
   "execution_count": null,
   "metadata": {},
   "outputs": [],
   "source": [
    "weather_combined[\"Heat_2\"].replace(\"M\", weather_combined[\"Heat_1\"], inplace = True)"
   ]
  },
  {
   "cell_type": "code",
   "execution_count": null,
   "metadata": {},
   "outputs": [],
   "source": [
    "weather_combined[\"Cool_2\"].replace(\"M\", weather_combined[\"Cool_1\"], inplace = True)"
   ]
  },
  {
   "cell_type": "code",
   "execution_count": null,
   "metadata": {},
   "outputs": [],
   "source": [
    "weather_combined[\"Date\"] = pd.to_datetime(weather_combined[\"Date\"])"
   ]
  },
  {
   "cell_type": "code",
   "execution_count": null,
   "metadata": {},
   "outputs": [],
   "source": [
    "weather_combined.drop(\"Sunrise_2\", axis = 1, inplace = True)"
   ]
  },
  {
   "cell_type": "code",
   "execution_count": null,
   "metadata": {},
   "outputs": [],
   "source": [
    "weather_combined.drop(\"Sunset_2\", axis = 1, inplace = True)"
   ]
  },
  {
   "cell_type": "code",
   "execution_count": null,
   "metadata": {},
   "outputs": [],
   "source": [
    "weather_combined.head()"
   ]
  },
  {
   "cell_type": "markdown",
   "metadata": {},
   "source": [
    "Observations:\n"
   ]
  },
  {
   "cell_type": "markdown",
   "metadata": {},
   "source": [
    "Train Dataset"
   ]
  },
  {
   "cell_type": "code",
   "execution_count": null,
   "metadata": {},
   "outputs": [],
   "source": [
    "train.head()"
   ]
  },
  {
   "cell_type": "code",
   "execution_count": null,
   "metadata": {},
   "outputs": [],
   "source": [
    "train.shape"
   ]
  },
  {
   "cell_type": "code",
   "execution_count": null,
   "metadata": {},
   "outputs": [],
   "source": [
    "train.dtypes"
   ]
  },
  {
   "cell_type": "code",
   "execution_count": null,
   "metadata": {},
   "outputs": [],
   "source": [
    "train.isnull().sum()"
   ]
  },
  {
   "cell_type": "code",
   "execution_count": null,
   "metadata": {},
   "outputs": [],
   "source": [
    "train[\"Species\"].value_counts()"
   ]
  },
  {
   "cell_type": "code",
   "execution_count": null,
   "metadata": {},
   "outputs": [],
   "source": [
    "train[\"Address\"].value_counts().head()"
   ]
  },
  {
   "cell_type": "code",
   "execution_count": null,
   "metadata": {},
   "outputs": [],
   "source": [
    "train[\"WnvPresent\"].value_counts(normalize = True)"
   ]
  },
  {
   "cell_type": "markdown",
   "metadata": {},
   "source": [
    "Observations:\n",
    "- Classes are imbalanced. Will need to balance.\n",
    "- Should potentially change date column into datetime object."
   ]
  },
  {
   "cell_type": "markdown",
   "metadata": {},
   "source": [
    "Test Dataset"
   ]
  },
  {
   "cell_type": "code",
   "execution_count": null,
   "metadata": {},
   "outputs": [],
   "source": [
    "test.head(20)"
   ]
  },
  {
   "cell_type": "code",
   "execution_count": null,
   "metadata": {},
   "outputs": [],
   "source": [
    "test.shape"
   ]
  },
  {
   "cell_type": "code",
   "execution_count": null,
   "metadata": {},
   "outputs": [],
   "source": [
    "test.dtypes"
   ]
  },
  {
   "cell_type": "code",
   "execution_count": null,
   "metadata": {},
   "outputs": [],
   "source": [
    "test[\"Species\"].value_counts()"
   ]
  },
  {
   "cell_type": "code",
   "execution_count": null,
   "metadata": {},
   "outputs": [],
   "source": [
    "test[\"Address\"].value_counts().head()"
   ]
  },
  {
   "cell_type": "markdown",
   "metadata": {},
   "source": [
    "Observations:\n",
    "- Does not contain NumMosquitos column; should not be used as a predictor.\n",
    "- Should potentially change date column into datetime object.\n",
    "- Not all cats are present in both train and test sets, need to fix before creating dummy variables"
   ]
  },
  {
   "cell_type": "markdown",
   "metadata": {},
   "source": [
    "#### Spray data edits"
   ]
  },
  {
   "cell_type": "code",
   "execution_count": null,
   "metadata": {},
   "outputs": [],
   "source": [
    "spray.head()"
   ]
  },
  {
   "cell_type": "code",
   "execution_count": null,
   "metadata": {},
   "outputs": [],
   "source": [
    "columns =  ['Time']\n",
    "spray.drop(columns, inplace=True, axis=1)"
   ]
  },
  {
   "cell_type": "code",
   "execution_count": null,
   "metadata": {},
   "outputs": [],
   "source": [
    "from datetime import datetime\n",
    "spray['Date'] = pd.DatetimeIndex(spray['Date'])"
   ]
  },
  {
   "cell_type": "code",
   "execution_count": null,
   "metadata": {},
   "outputs": [],
   "source": [
    "spray.head()"
   ]
  },
  {
   "cell_type": "markdown",
   "metadata": {},
   "source": [
    "#### Spray outliers: show and remove"
   ]
  },
  {
   "cell_type": "code",
   "execution_count": null,
   "metadata": {},
   "outputs": [],
   "source": [
    "import seaborn as sns\n",
    "sns.boxplot(spray['Latitude'])"
   ]
  },
  {
   "cell_type": "code",
   "execution_count": null,
   "metadata": {},
   "outputs": [],
   "source": [
    "sns.boxplot(spray['Longitude'],color='green')"
   ]
  },
  {
   "cell_type": "code",
   "execution_count": null,
   "metadata": {},
   "outputs": [],
   "source": [
    "spray[spray.Longitude<=-87.9].shape[0]"
   ]
  },
  {
   "cell_type": "code",
   "execution_count": null,
   "metadata": {},
   "outputs": [],
   "source": [
    "spray[spray.Latitude>=42.1].shape[0]"
   ]
  },
  {
   "cell_type": "markdown",
   "metadata": {},
   "source": [
    "Create filter for Longitude outliers"
   ]
  },
  {
   "cell_type": "code",
   "execution_count": null,
   "metadata": {},
   "outputs": [],
   "source": [
    "long_ol = spray['Longitude']<=-87.9\n",
    "spray[long_ol].shape"
   ]
  },
  {
   "cell_type": "code",
   "execution_count": null,
   "metadata": {},
   "outputs": [],
   "source": [
    "spray[~long_ol].shape"
   ]
  },
  {
   "cell_type": "markdown",
   "metadata": {},
   "source": [
    "Remove spray outliers"
   ]
  },
  {
   "cell_type": "code",
   "execution_count": null,
   "metadata": {},
   "outputs": [],
   "source": [
    "spray.shape"
   ]
  },
  {
   "cell_type": "code",
   "execution_count": null,
   "metadata": {},
   "outputs": [],
   "source": [
    "spray = spray[~long_ol]"
   ]
  },
  {
   "cell_type": "code",
   "execution_count": null,
   "metadata": {},
   "outputs": [],
   "source": [
    "spray.shape"
   ]
  },
  {
   "cell_type": "markdown",
   "metadata": {},
   "source": [
    "#### Add Airport Locations"
   ]
  },
  {
   "cell_type": "markdown",
   "metadata": {},
   "source": [
    "Station 1: CHICAGO O'HARE INTERNATIONAL AIRPORT Lat: 41.995 Lon: -87.933 Elev: 662 ft. above sea level<br>\n",
    "Station 2: CHICAGO MIDWAY INTL ARPT Lat: 41.786 Lon: -87.752 Elev: 612 ft. above sea level"
   ]
  },
  {
   "cell_type": "code",
   "execution_count": null,
   "metadata": {},
   "outputs": [],
   "source": [
    "#ohare, midway locations\n",
    "airport_lat  = [41.995, 41.786]\n",
    "airport_long = [-87.933,-87.752]"
   ]
  },
  {
   "cell_type": "code",
   "execution_count": null,
   "metadata": {},
   "outputs": [],
   "source": [
    "a_lat = pd.Series(airport_lat)\n",
    "a_long = pd.Series(airport_long)"
   ]
  },
  {
   "cell_type": "markdown",
   "metadata": {},
   "source": [
    "#### Map with spray data, and airport locations"
   ]
  },
  {
   "cell_type": "code",
   "execution_count": null,
   "metadata": {},
   "outputs": [],
   "source": [
    "# Code is borrowed from: https://www.kaggle.com/users/213536/vasco/predict-west-nile-virus/west-nile-heatmap\n",
    "\n",
    "#import pandas as pd\n",
    "#import numpy as np\n",
    "import matplotlib.pyplot as plt\n",
    "#%matplotlib inline # Remove this when copying to a script on Kaggle:\n",
    "\n",
    "mapdata = np.loadtxt('./all/mapdata_copyright_openstreetmap_contributors.txt')\n",
    "#traps = pd.read_csv('../input/train.csv')[['Date', 'Trap','Longitude', 'Latitude', 'WnvPresent']]\n",
    "\n",
    "aspect = mapdata.shape[0] * 1.0 / mapdata.shape[1]\n",
    "lon_lat_box = (-88, -87.5, 41.6, 42.1)\n",
    "\n",
    "plt.figure(figsize=(10,14))\n",
    "plt.imshow(mapdata, \n",
    "           cmap=plt.get_cmap('gray'), \n",
    "           extent=lon_lat_box, \n",
    "           aspect=aspect)\n",
    "\n",
    "locations = train[['Longitude', 'Latitude']].drop_duplicates().values\n",
    "plt.scatter(locations[:,0], locations[:,1], marker='o',c='k',label = \"Mosquito Traps\")\n",
    "plt.scatter(a_long, a_lat, marker = \"o\",c ='green',label=\"Airport\")\n",
    "plt.scatter(spray['Longitude'],spray['Latitude'],label=\"Spray\")\n",
    "plt.legend()"
   ]
  },
  {
   "cell_type": "markdown",
   "metadata": {},
   "source": [
    "# Test and Train Data\n",
    "\n",
    "This is the testing and training data. The first thing that we do is merge the two data sets. This was done so that we could use pd.get_dummies and not have uneven rows if vaoues exist in one df and not the other. I'll have to change the method to use the Label Encoder in the future so the purity of the two data sets can be preserved.   "
   ]
  },
  {
   "cell_type": "code",
   "execution_count": null,
   "metadata": {},
   "outputs": [],
   "source": [
    "test_train = pd.concat([test,train],keys = ['test','train'],sort = False)"
   ]
  },
  {
   "cell_type": "code",
   "execution_count": null,
   "metadata": {},
   "outputs": [],
   "source": [
    "test_train.index.levels[0].name = 'og'\n",
    "test_train.index.levels[1].name = 'pip'"
   ]
  },
  {
   "cell_type": "markdown",
   "metadata": {},
   "source": [
    "When merging datasets I use the pd.concat with keys. This creates a multidimentional dataframe which can cause issues for certain functions. A simple solution is to name the two indexes. I used the names 'og' and 'pip' because I think they are fun to say."
   ]
  },
  {
   "cell_type": "markdown",
   "metadata": {},
   "source": [
    "The below line changes all the column names to lower case. This makes it easier for me to type."
   ]
  },
  {
   "cell_type": "code",
   "execution_count": null,
   "metadata": {},
   "outputs": [],
   "source": [
    "test_train.columns = [i.lower().replace(' ','_') for i in test_train.columns.get_values()]"
   ]
  },
  {
   "cell_type": "markdown",
   "metadata": {},
   "source": [
    "Now we change the date column to a datetime object."
   ]
  },
  {
   "cell_type": "code",
   "execution_count": null,
   "metadata": {},
   "outputs": [],
   "source": [
    "test_train.date=pd.to_datetime(test_train.date, format='%Y-%m-%d')"
   ]
  },
  {
   "cell_type": "code",
   "execution_count": null,
   "metadata": {},
   "outputs": [],
   "source": [
    "test_train.date.head()"
   ]
  },
  {
   "cell_type": "code",
   "execution_count": null,
   "metadata": {},
   "outputs": [],
   "source": [
    "test_train.trap.value_counts().head()"
   ]
  },
  {
   "cell_type": "code",
   "execution_count": null,
   "metadata": {},
   "outputs": [],
   "source": [
    "test_train.info()"
   ]
  },
  {
   "cell_type": "code",
   "execution_count": null,
   "metadata": {},
   "outputs": [],
   "source": [
    "test_train.select_dtypes(include='int')"
   ]
  },
  {
   "cell_type": "markdown",
   "metadata": {},
   "source": [
    "Now to get_dummies. This really should have been done with the LabelEncoder"
   ]
  },
  {
   "cell_type": "code",
   "execution_count": null,
   "metadata": {},
   "outputs": [],
   "source": [
    "test_train = pd.get_dummies(test_train, columns=['species','trap'])"
   ]
  },
  {
   "cell_type": "code",
   "execution_count": null,
   "metadata": {},
   "outputs": [],
   "source": [
    "test_train.info(verbose=True)"
   ]
  },
  {
   "cell_type": "code",
   "execution_count": null,
   "metadata": {},
   "outputs": [],
   "source": [
    "test_train.longitude"
   ]
  },
  {
   "cell_type": "code",
   "execution_count": null,
   "metadata": {},
   "outputs": [],
   "source": [
    "test_train.latitude"
   ]
  },
  {
   "cell_type": "markdown",
   "metadata": {},
   "source": [
    "I'm going to sugest we don't use Block, Address, and street. They give the same info as lat and lon.  "
   ]
  },
  {
   "cell_type": "markdown",
   "metadata": {},
   "source": [
    "Pulling out the latitude and longitude and storing them as ints. This should of been done as a lambda function. mire things to correst in the future."
   ]
  },
  {
   "cell_type": "code",
   "execution_count": null,
   "metadata": {},
   "outputs": [],
   "source": [
    "def lat_lon_int(x):\n",
    "    return int(x*1000)"
   ]
  },
  {
   "cell_type": "code",
   "execution_count": null,
   "metadata": {},
   "outputs": [],
   "source": [
    "test_train['lat_int'] = test_train.latitude.apply(lat_lon_int)"
   ]
  },
  {
   "cell_type": "code",
   "execution_count": null,
   "metadata": {},
   "outputs": [],
   "source": [
    "test_train['lon_int'] = test_train.longitude.apply(lat_lon_int)"
   ]
  },
  {
   "cell_type": "code",
   "execution_count": null,
   "metadata": {},
   "outputs": [],
   "source": [
    "def get_month(m):\n",
    "    return m.month"
   ]
  },
  {
   "cell_type": "markdown",
   "metadata": {},
   "source": [
    "Same thing with month and day. I should have taken year here too."
   ]
  },
  {
   "cell_type": "code",
   "execution_count": null,
   "metadata": {},
   "outputs": [],
   "source": [
    "test_train['month'] = test_train.date.apply(get_month)"
   ]
  },
  {
   "cell_type": "code",
   "execution_count": null,
   "metadata": {},
   "outputs": [],
   "source": [
    "def get_day(d):\n",
    "    return d.day"
   ]
  },
  {
   "cell_type": "code",
   "execution_count": null,
   "metadata": {},
   "outputs": [],
   "source": [
    "test_train['day'] = test_train.date.apply(get_day)"
   ]
  },
  {
   "cell_type": "code",
   "execution_count": null,
   "metadata": {},
   "outputs": [],
   "source": [
    "test_train.addressaccuracy.value_counts()"
   ]
  },
  {
   "cell_type": "markdown",
   "metadata": {},
   "source": [
    "Some of the addressaccuracy scores were only 3. Most were 8 or 9. The map accuracy was taken from GeoCoder and a 3 is described as \"Sub-region (county, municipality, etc.) level accuracy.\" Which isn't very good. For the project we decided to keep the values but I'll have to take a look at them in the redux."
   ]
  },
  {
   "cell_type": "code",
   "execution_count": null,
   "metadata": {},
   "outputs": [],
   "source": [
    "test_train.nummosquitos.value_counts()"
   ]
  },
  {
   "cell_type": "code",
   "execution_count": null,
   "metadata": {},
   "outputs": [],
   "source": [
    "spray.info()"
   ]
  },
  {
   "cell_type": "markdown",
   "metadata": {},
   "source": [
    "Putting the spray data into lowercase."
   ]
  },
  {
   "cell_type": "code",
   "execution_count": null,
   "metadata": {},
   "outputs": [],
   "source": [
    "spray.columns = [i.lower().replace(' ','_') for i in spray.columns.get_values()]"
   ]
  },
  {
   "cell_type": "markdown",
   "metadata": {},
   "source": [
    "Changing the names of some columns that were duplicates with the test and train data. T shoud have found a better way to do this but there were only two columns that needed to be changed."
   ]
  },
  {
   "cell_type": "code",
   "execution_count": null,
   "metadata": {},
   "outputs": [],
   "source": [
    "spray.rename(columns={'latitude': 'latitude_spray', 'longitude': 'longitude_spray'}, inplace=True)"
   ]
  },
  {
   "cell_type": "markdown",
   "metadata": {},
   "source": [
    "Seperating the test and train into two dataframes again."
   ]
  },
  {
   "cell_type": "code",
   "execution_count": null,
   "metadata": {},
   "outputs": [],
   "source": [
    "X_test = pd.DataFrame(test_train.loc['test'])\n",
    "X_train = pd.DataFrame(test_train.loc['train'])\n",
    "X_test.shape"
   ]
  },
  {
   "cell_type": "markdown",
   "metadata": {},
   "source": [
    "Merging in the spray dataframe into the train df. The spray data only covered dates in the train data and not the test data so it was not merged with the test data."
   ]
  },
  {
   "cell_type": "code",
   "execution_count": null,
   "metadata": {},
   "outputs": [],
   "source": [
    "#X_test = X_test.merge(spray, on='date')\n",
    "X_train = X_train.merge(spray, on='date')"
   ]
  },
  {
   "cell_type": "code",
   "execution_count": null,
   "metadata": {},
   "outputs": [],
   "source": [
    "X_train.shape"
   ]
  },
  {
   "cell_type": "markdown",
   "metadata": {},
   "source": [
    "Setting the values for the columns in weather combined to lower case."
   ]
  },
  {
   "cell_type": "code",
   "execution_count": null,
   "metadata": {},
   "outputs": [],
   "source": [
    "weather_combined.columns = [i.lower().replace(' ','_') for i in weather_combined.columns.get_values()]"
   ]
  },
  {
   "cell_type": "markdown",
   "metadata": {},
   "source": [
    "This was a bit of a problem. I set all data with the values of 'M','-','T',' T', and '  T' to nan for easier clean up later. Unortunately, I replaced these values with mean and median values for the column. This is fine for the 'M\" and '-' values but the various 'T' values stood for 'trace' and should have been set to zero.  "
   ]
  },
  {
   "cell_type": "code",
   "execution_count": null,
   "metadata": {},
   "outputs": [],
   "source": [
    "weather_combined = weather_combined.replace('M', np.NaN)\n",
    "weather_combined = weather_combined.replace('-', np.NaN)\n",
    "weather_combined = weather_combined.replace('T', np.NaN)\n",
    "weather_combined = weather_combined.replace(' T', np.NaN)\n",
    "weather_combined = weather_combined.replace('  T', np.NaN)"
   ]
  },
  {
   "cell_type": "code",
   "execution_count": null,
   "metadata": {},
   "outputs": [],
   "source": [
    "weather_combined.info()"
   ]
  },
  {
   "cell_type": "markdown",
   "metadata": {},
   "source": [
    "Dropping column depart_2 since it's compleatly NaN"
   ]
  },
  {
   "cell_type": "code",
   "execution_count": null,
   "metadata": {},
   "outputs": [],
   "source": [
    "weather_combined.drop('depart_2',axis = 1,inplace=True)"
   ]
  },
  {
   "cell_type": "code",
   "execution_count": null,
   "metadata": {},
   "outputs": [],
   "source": [
    "weather_combined.head()"
   ]
  },
  {
   "cell_type": "markdown",
   "metadata": {},
   "source": [
    "The data in weather combined was in string format and not numbers. I converted these values to the proper format. In the redux I will find a better solution to this instead of brute force. "
   ]
  },
  {
   "cell_type": "code",
   "execution_count": null,
   "metadata": {},
   "outputs": [],
   "source": [
    "weather_combined.tavg_1=weather_combined.tavg_1.apply(int) #avgspeed_1\n",
    "weather_combined.depart_1=weather_combined.depart_1.apply(int)\n",
    "weather_combined.wetbulb_1.fillna(weather_combined.wetbulb_1.median(),inplace=True)\n",
    "weather_combined.wetbulb_1=weather_combined.wetbulb_1.apply(int)\n",
    "weather_combined.heat_1=weather_combined.heat_1.apply(int)\n",
    "weather_combined.cool_1=weather_combined.cool_1.apply(int)\n",
    "weather_combined.sunrise_1=weather_combined.sunrise_1.apply(int)\n",
    "weather_combined.sunset_1=weather_combined.sunset_1.apply(int)\n",
    "weather_combined.preciptotal_1=weather_combined.preciptotal_1.apply(float)\n",
    "weather_combined.stnpressure_1=weather_combined.stnpressure_1.apply(float)\n",
    "weather_combined.stnpressure_1.fillna(weather_combined.stnpressure_1.mean(),inplace=True)\n",
    "weather_combined.sealevel_1=weather_combined.sealevel_1.apply(float)\n",
    "#weather_combined.avgspeed_1.fillna(weather_combined.avgspeed_1.mean(),inplace=True)\n",
    "weather_combined.avgspeed_1=weather_combined.avgspeed_1.apply(float)\n",
    "weather_combined.avgspeed_1.fillna(weather_combined.avgspeed_1.mean(),inplace=True)\n",
    "weather_combined.tavg_2=weather_combined.tavg_2.apply(int)\n",
    "weather_combined.wetbulb_2.fillna(weather_combined.wetbulb_2.median(),inplace=True)\n",
    "weather_combined.wetbulb_2=weather_combined.wetbulb_2.apply(int)\n",
    "weather_combined.heat_2=weather_combined.heat_2.apply(int)\n",
    "weather_combined.cool_2=weather_combined.cool_2.apply(int)\n",
    "weather_combined.preciptotal_2=weather_combined.preciptotal_2.apply(float)\n",
    "weather_combined.preciptotal_2.fillna(weather_combined.preciptotal_2.mean(),inplace=True)\n",
    "weather_combined.stnpressure_2=weather_combined.stnpressure_2.apply(float)\n",
    "weather_combined.stnpressure_2.fillna(weather_combined.stnpressure_2.mean(),inplace=True)\n",
    "weather_combined.sealevel_2=weather_combined.sealevel_2.apply(float)\n",
    "weather_combined.sealevel_2.fillna(weather_combined.sealevel_2.mean(),inplace=True)\n",
    "weather_combined.avgspeed_2=weather_combined.avgspeed_2.apply(float)\n",
    "weather_combined.avgspeed_2.fillna(weather_combined.avgspeed_2.mean(),inplace=True)"
   ]
  },
  {
   "cell_type": "markdown",
   "metadata": {},
   "source": [
    "Merge weather into X_train"
   ]
  },
  {
   "cell_type": "code",
   "execution_count": null,
   "metadata": {},
   "outputs": [],
   "source": [
    "#X_test = X_test.merge(weather_combined, on='date')\n",
    "X_train = X_train.merge(weather_combined, on='date')"
   ]
  },
  {
   "cell_type": "markdown",
   "metadata": {},
   "source": [
    "Droping id as it's an internal identifier and has no bearing on anything."
   ]
  },
  {
   "cell_type": "code",
   "execution_count": null,
   "metadata": {},
   "outputs": [],
   "source": [
    "X_train.drop('id',axis=1, inplace=True)"
   ]
  },
  {
   "cell_type": "code",
   "execution_count": null,
   "metadata": {},
   "outputs": [],
   "source": [
    "X_train.info(verbose=True, null_counts=True)"
   ]
  },
  {
   "cell_type": "code",
   "execution_count": null,
   "metadata": {},
   "outputs": [],
   "source": [
    "X_test.shape"
   ]
  },
  {
   "cell_type": "markdown",
   "metadata": {},
   "source": [
    "Merge weather into X_test"
   ]
  },
  {
   "cell_type": "code",
   "execution_count": null,
   "metadata": {},
   "outputs": [],
   "source": [
    "X_test = X_test.merge(weather_combined, on='date')\n",
    "X_test.shape"
   ]
  },
  {
   "cell_type": "markdown",
   "metadata": {},
   "source": [
    "Dropping 'nummosquitos' and 'wnvpresent' because it's just garbage from the merger of train and test."
   ]
  },
  {
   "cell_type": "code",
   "execution_count": null,
   "metadata": {},
   "outputs": [],
   "source": [
    "X_test.drop(['nummosquitos','wnvpresent'],axis=1,inplace=True)"
   ]
  },
  {
   "cell_type": "code",
   "execution_count": null,
   "metadata": {},
   "outputs": [],
   "source": [
    "X_test.info(verbose=True, null_counts=True)"
   ]
  },
  {
   "cell_type": "markdown",
   "metadata": {},
   "source": [
    "Writing relatively clean data to new csv files."
   ]
  },
  {
   "cell_type": "code",
   "execution_count": null,
   "metadata": {},
   "outputs": [],
   "source": [
    "X_train.to_csv('./data/train.csv',index=False)\n",
    "X_test.to_csv('./data/test.csv',index=False)"
   ]
  },
  {
   "cell_type": "code",
   "execution_count": null,
   "metadata": {},
   "outputs": [],
   "source": [
    "X_train = pd.read_csv('./data/train.csv')\n",
    "X_test = pd.read_csv('./data/test.csv')"
   ]
  },
  {
   "cell_type": "markdown",
   "metadata": {},
   "source": [
    "The goal in this section is to create a dataframe that can be used for graphs and charts. This will require undoind some of our work in the past. In the future cleaning of data should be compleated and saved before creating dummies. More work for the redux."
   ]
  },
  {
   "cell_type": "markdown",
   "metadata": {},
   "source": [
    "Merging X_train and X_test again into df_data"
   ]
  },
  {
   "cell_type": "code",
   "execution_count": null,
   "metadata": {},
   "outputs": [],
   "source": [
    "df_data = pd.concat([X_test,X_train],sort = False)"
   ]
  },
  {
   "cell_type": "markdown",
   "metadata": {},
   "source": [
    "Droping id and a large number of dummy columns"
   ]
  },
  {
   "cell_type": "code",
   "execution_count": null,
   "metadata": {},
   "outputs": [],
   "source": [
    "df_data.drop('id', axis =  1, inplace=True) \n",
    "df_data.drop(df_data.loc[:,'species_CULEX ERRATICUS':'trap_T903'].columns, axis=1, inplace=True)\n",
    "\n"
   ]
  },
  {
   "cell_type": "markdown",
   "metadata": {},
   "source": [
    "Filling NaN with negative ones for graphs "
   ]
  },
  {
   "cell_type": "code",
   "execution_count": null,
   "metadata": {},
   "outputs": [],
   "source": [
    "df_data.fillna(-1,inplace=True)"
   ]
  },
  {
   "cell_type": "markdown",
   "metadata": {},
   "source": [
    "Converting date back to datetime"
   ]
  },
  {
   "cell_type": "code",
   "execution_count": null,
   "metadata": {},
   "outputs": [],
   "source": [
    "df_data.date=pd.to_datetime(df_data.date, format='%Y-%m-%d')"
   ]
  },
  {
   "cell_type": "code",
   "execution_count": null,
   "metadata": {},
   "outputs": [],
   "source": [
    "df_data.info(verbose = True)"
   ]
  },
  {
   "cell_type": "raw",
   "metadata": {},
   "source": [
    "Getting the original train and test to get the original values that were turned into dummies"
   ]
  },
  {
   "cell_type": "code",
   "execution_count": null,
   "metadata": {},
   "outputs": [],
   "source": [
    "train = pd.read_csv(\"./all/train.csv\")\n",
    "test = pd.read_csv(\"./all/test.csv\")"
   ]
  },
  {
   "cell_type": "code",
   "execution_count": null,
   "metadata": {},
   "outputs": [],
   "source": [
    "df_data2 = pd.concat([test,train],sort = False)"
   ]
  },
  {
   "cell_type": "code",
   "execution_count": null,
   "metadata": {},
   "outputs": [],
   "source": [
    "df_data2.info()"
   ]
  },
  {
   "cell_type": "code",
   "execution_count": null,
   "metadata": {},
   "outputs": [],
   "source": [
    "df_data2.columns = [i.lower().replace(' ','_') for i in df_data2.columns.get_values()]"
   ]
  },
  {
   "cell_type": "code",
   "execution_count": null,
   "metadata": {},
   "outputs": [],
   "source": [
    "df_data2.date=pd.to_datetime(df_data2.date, format='%Y-%m-%d')"
   ]
  },
  {
   "cell_type": "code",
   "execution_count": null,
   "metadata": {},
   "outputs": [],
   "source": [
    "df_data3 = df_data2[['species','trap']].copy()"
   ]
  },
  {
   "cell_type": "code",
   "execution_count": null,
   "metadata": {},
   "outputs": [],
   "source": [
    "df_data3.info()"
   ]
  },
  {
   "cell_type": "code",
   "execution_count": null,
   "metadata": {},
   "outputs": [],
   "source": [
    "del df_data2"
   ]
  },
  {
   "cell_type": "code",
   "execution_count": null,
   "metadata": {},
   "outputs": [],
   "source": [
    "df_data.to_csv('./data/temp.csv',index=False)\n",
    "df_data3.to_csv('./data/temp2.csv',index=False)"
   ]
  },
  {
   "cell_type": "code",
   "execution_count": null,
   "metadata": {},
   "outputs": [],
   "source": [
    "df_data = pd.read_csv('./data/temp.csv')\n",
    "df_data3 = pd.read_csv('./data/temp2.csv')"
   ]
  },
  {
   "cell_type": "code",
   "execution_count": null,
   "metadata": {},
   "outputs": [],
   "source": [
    "df_data.info(verbose= True)"
   ]
  },
  {
   "cell_type": "code",
   "execution_count": null,
   "metadata": {},
   "outputs": [],
   "source": [
    "df_data3.info(verbose= True)"
   ]
  },
  {
   "cell_type": "code",
   "execution_count": null,
   "metadata": {},
   "outputs": [],
   "source": [
    "df_data2 = pd.concat([df_data,df_data3],axis = 1,sort = False)"
   ]
  },
  {
   "cell_type": "markdown",
   "metadata": {},
   "source": [
    "Saving the data to a csv"
   ]
  },
  {
   "cell_type": "code",
   "execution_count": null,
   "metadata": {},
   "outputs": [],
   "source": [
    "df_data2.to_csv('./data/graph.csv')"
   ]
  },
  {
   "cell_type": "markdown",
   "metadata": {},
   "source": [
    "Time to model. "
   ]
  },
  {
   "cell_type": "markdown",
   "metadata": {},
   "source": [
    "I was assigned to model the data using the KNN, Random Forest and XGBoost. one of the issues I had was that I failed to account fot the extreme imbalance between positive cases for WNV and negative cases. In the redux I'll have to correct that oversite as I feel it greatly impacted my scores."
   ]
  },
  {
   "cell_type": "markdown",
   "metadata": {},
   "source": [
    "Loading in the test and train model just in case."
   ]
  },
  {
   "cell_type": "code",
   "execution_count": null,
   "metadata": {},
   "outputs": [],
   "source": [
    "X_train = pd.read_csv('./data/train.csv')\n",
    "X_test = pd.read_csv('./data/test.csv')"
   ]
  },
  {
   "cell_type": "markdown",
   "metadata": {},
   "source": [
    "Setting the y values to be based on WNV present and Number of Mosquitoes. The project calls for us to find if WNV is present but I felt that predicting the number of mosquitoes with regression models might be interesting. Unfortunately, There was not time for that. "
   ]
  },
  {
   "cell_type": "code",
   "execution_count": null,
   "metadata": {},
   "outputs": [],
   "source": [
    "y_train_wnv = pd.DataFrame(X_train.wnvpresent)\n",
    "y_train_mos = pd.DataFrame(X_train.nummosquitos)"
   ]
  },
  {
   "cell_type": "markdown",
   "metadata": {},
   "source": [
    "Dropping columns that were strings or that should not be present.  "
   ]
  },
  {
   "cell_type": "code",
   "execution_count": null,
   "metadata": {},
   "outputs": [],
   "source": [
    "X_train.drop(['wnvpresent','nummosquitos'],axis=1,inplace=True)"
   ]
  },
  {
   "cell_type": "code",
   "execution_count": null,
   "metadata": {},
   "outputs": [],
   "source": [
    "X_train.drop(['address','addressnumberandstreet','street'], axis =1,inplace=True)"
   ]
  },
  {
   "cell_type": "code",
   "execution_count": null,
   "metadata": {},
   "outputs": [],
   "source": [
    "X_train.drop('date',axis=1,inplace=True)"
   ]
  },
  {
   "cell_type": "code",
   "execution_count": null,
   "metadata": {},
   "outputs": [],
   "source": [
    "#X_train.date = pd.to_datetime(X_train.date,format='%Y-%m-%d')"
   ]
  },
  {
   "cell_type": "markdown",
   "metadata": {},
   "source": [
    "Using np.where to change values from '0.0' to 0 and 1. Probably should have used .apply(int)"
   ]
  },
  {
   "cell_type": "code",
   "execution_count": null,
   "metadata": {},
   "outputs": [],
   "source": [
    "y_train_wnv.wnvpresent = np.where(y_train_wnv.wnvpresent==0.0,0,1)\n",
    "#y_train_mos.nummosquitos = np.where(y_train.nummosquitos==)"
   ]
  },
  {
   "cell_type": "markdown",
   "metadata": {},
   "source": [
    "Geting the Id values for the kaggel csv. We do need this data to turn in our results although is has no place in our models."
   ]
  },
  {
   "cell_type": "code",
   "execution_count": null,
   "metadata": {},
   "outputs": [],
   "source": [
    "df_kaggle = pd.DataFrame(X_test.id)"
   ]
  },
  {
   "cell_type": "markdown",
   "metadata": {},
   "source": [
    "Droping strings from test"
   ]
  },
  {
   "cell_type": "code",
   "execution_count": null,
   "metadata": {},
   "outputs": [],
   "source": [
    "X_test.drop(['id','date','address','addressnumberandstreet','street'],axis=1,inplace=True)"
   ]
  },
  {
   "cell_type": "code",
   "execution_count": null,
   "metadata": {},
   "outputs": [],
   "source": [
    "X_test.shape"
   ]
  },
  {
   "cell_type": "code",
   "execution_count": null,
   "metadata": {},
   "outputs": [],
   "source": [
    "X_train.shape"
   ]
  },
  {
   "cell_type": "markdown",
   "metadata": {},
   "source": [
    "Our first model is going to be KNN. To get this we are going to use a grid search to get the best values. "
   ]
  },
  {
   "cell_type": "code",
   "execution_count": null,
   "metadata": {},
   "outputs": [],
   "source": [
    "from sklearn.model_selection import GridSearchCV"
   ]
  },
  {
   "cell_type": "code",
   "execution_count": null,
   "metadata": {},
   "outputs": [],
   "source": [
    "from sklearn.neighbors import KNeighborsClassifier\n",
    "\n",
    "knn_params = {\n",
    "    'n_neighbors':[1,3,5,9,15,21],\n",
    "    'weights':['uniform','distance'],\n",
    "    'metric':['euclidean','manhattan','minkowski'],\n",
    "    'algorithm':['auto', 'ball_tree', 'kd_tree']\n",
    "}\n",
    "\n",
    "knnc_gridsearch = GridSearchCV(KNeighborsClassifier(), knn_params, cv=3, verbose=1, n_jobs=2)\n",
    "\n",
    "knnc_gridsearch = knnc_gridsearch.fit(X_train, y_train_wnv)"
   ]
  },
  {
   "cell_type": "code",
   "execution_count": null,
   "metadata": {},
   "outputs": [],
   "source": [
    "knnc_gridsearch.best_score_"
   ]
  },
  {
   "cell_type": "markdown",
   "metadata": {},
   "source": [
    "0.9466971254521226"
   ]
  },
  {
   "cell_type": "code",
   "execution_count": null,
   "metadata": {},
   "outputs": [],
   "source": [
    "knnc_gridsearch.best_params_"
   ]
  },
  {
   "cell_type": "markdown",
   "metadata": {},
   "source": [
    "{'algorithm': 'auto',\n",
    " 'metric': 'euclidean',\n",
    " 'n_neighbors': 21,\n",
    " 'weights': 'uniform'}"
   ]
  },
  {
   "cell_type": "markdown",
   "metadata": {},
   "source": [
    "The nice thing about gridsearch is that it produces a large python dictionary which cah be read as a dataframe. I saved this dataframe for all models used with the idea I could display the performance of the features selected as a chart. Unfortunately we did not have time to complete that."
   ]
  },
  {
   "cell_type": "code",
   "execution_count": null,
   "metadata": {},
   "outputs": [],
   "source": [
    "df_knnc_gs = pd.DataFrame(knnc_gridsearch.cv_results_)\n",
    "df_knnc_gs.to_csv('./data/knnc_gs_score.csv',index=False)"
   ]
  },
  {
   "cell_type": "code",
   "execution_count": null,
   "metadata": {},
   "outputs": [],
   "source": [
    "df_knnc_gs.head()"
   ]
  },
  {
   "cell_type": "code",
   "execution_count": null,
   "metadata": {},
   "outputs": [],
   "source": [
    "cleo = knnc_gridsearch.predict(X_test)"
   ]
  },
  {
   "cell_type": "code",
   "execution_count": null,
   "metadata": {},
   "outputs": [],
   "source": [
    "df_kaggle['WnvPresent'] = cleo"
   ]
  },
  {
   "cell_type": "markdown",
   "metadata": {},
   "source": [
    "The kaggel score was pretty bad at below .5"
   ]
  },
  {
   "cell_type": "code",
   "execution_count": null,
   "metadata": {},
   "outputs": [],
   "source": [
    "df_kaggle.id=df_kaggle.id.apply(int)\n",
    "#df_kaggle.set_index(\"id\", inplace = True)\n",
    "df_kaggle.to_csv('./data/knnc_kaggel.csv',index=False)"
   ]
  },
  {
   "cell_type": "markdown",
   "metadata": {},
   "source": [
    "Kaggel 0.49813"
   ]
  },
  {
   "cell_type": "code",
   "execution_count": null,
   "metadata": {},
   "outputs": [],
   "source": [
    "knnc = KNeighborsClassifier()\n",
    "model = knnc.fit(X_train,y_train_wnv)\n",
    "pred_knnc = knnc.predict(X_test)\n",
    "pred_knnc_train = knnc.predict(X_train)\n",
    "model.score(X_train, y_train_wnv)"
   ]
  },
  {
   "cell_type": "markdown",
   "metadata": {},
   "source": [
    "Value for score 0.9507900247477632"
   ]
  },
  {
   "cell_type": "markdown",
   "metadata": {},
   "source": [
    "Adding Random forest"
   ]
  },
  {
   "cell_type": "code",
   "execution_count": null,
   "metadata": {},
   "outputs": [],
   "source": [
    "from sklearn.ensemble import RandomForestClassifier\n",
    "\n",
    "rfc_params = {\n",
    "    'n_estimators':[3,5,10,15,21],\n",
    "    #'criterion':['mae','mse'],\n",
    "    'max_features':['auto','sqrt','log2'],\n",
    "    'max_depth':[3,5,7,11,13,17,19]\n",
    "}\n",
    "\n",
    "rfc_gridsearch = GridSearchCV(RandomForestClassifier(), rfc_params, cv=3, verbose=1, n_jobs=2)\n",
    "\n",
    "rfc_gridsearch = rfc_gridsearch.fit(X_train, y_train_wnv)"
   ]
  },
  {
   "cell_type": "code",
   "execution_count": null,
   "metadata": {},
   "outputs": [],
   "source": [
    "rfc_gridsearch.best_score_"
   ]
  },
  {
   "cell_type": "markdown",
   "metadata": {},
   "source": [
    "0.9428897772701313"
   ]
  },
  {
   "cell_type": "code",
   "execution_count": null,
   "metadata": {},
   "outputs": [],
   "source": [
    "rfc_gridsearch.best_params_"
   ]
  },
  {
   "cell_type": "markdown",
   "metadata": {},
   "source": [
    "{'max_depth': 3, 'max_features': 'log2', 'n_estimators': 3}"
   ]
  },
  {
   "cell_type": "code",
   "execution_count": null,
   "metadata": {},
   "outputs": [],
   "source": [
    "df_rfc_gs = pd.DataFrame(rfc_gridsearch.cv_results_)\n",
    "df_rfc_gs.to_csv('./data/rfc_gs_score.csv',index=False)"
   ]
  },
  {
   "cell_type": "code",
   "execution_count": null,
   "metadata": {},
   "outputs": [],
   "source": [
    "df_rfc_gs.head()"
   ]
  },
  {
   "cell_type": "code",
   "execution_count": null,
   "metadata": {},
   "outputs": [],
   "source": [
    "cleo = rfc_gridsearch.predict(X_test)\n",
    "df_kaggle['WnvPresent'] = cleo\n",
    "df_kaggle.id=df_kaggle.id.apply(int)\n",
    "df_kaggle.to_csv('./data/rfc_kaggel.csv',index=False)"
   ]
  },
  {
   "cell_type": "markdown",
   "metadata": {},
   "source": [
    "Kaggel 0.50000"
   ]
  },
  {
   "cell_type": "code",
   "execution_count": null,
   "metadata": {},
   "outputs": [],
   "source": [
    "rfc = RandomForestClassifier()\n",
    "model = rfc.fit(X_train,y_train_wnv)\n",
    "pred_rfc = rfc.predict(X_test)\n",
    "pred_rfc_train = rfc.predict(X_train)\n",
    "model.score(X_train, y_train_wnv)"
   ]
  },
  {
   "cell_type": "markdown",
   "metadata": {},
   "source": [
    "0.9765848086807538"
   ]
  },
  {
   "cell_type": "code",
   "execution_count": null,
   "metadata": {},
   "outputs": [],
   "source": [
    "Added XGBoost"
   ]
  },
  {
   "cell_type": "code",
   "execution_count": null,
   "metadata": {},
   "outputs": [],
   "source": [
    "from xgboost import XGBClassifier"
   ]
  },
  {
   "cell_type": "code",
   "execution_count": null,
   "metadata": {},
   "outputs": [],
   "source": [
    "xgc = XGBClassifier()\n",
    "model = xgc.fit(X_train, y_train_wnv)\n",
    "pred_xgc = xgc.predict(X_test)\n",
    "pred_xgc_train = xgc.predict(X_train)\n",
    "model.score(X_train, y_train_wnv)"
   ]
  },
  {
   "cell_type": "markdown",
   "metadata": {},
   "source": [
    "0.9475537787930707"
   ]
  },
  {
   "cell_type": "code",
   "execution_count": null,
   "metadata": {},
   "outputs": [],
   "source": [
    "xgc_params = {\n",
    "    'max_depth':[3,5,7,11,13,17,19],\n",
    "    'n_estimators':[3,5,10,15,21],\n",
    "    'booster':['gbtree', 'gblinear', 'dart']\n",
    "}\n",
    "\n",
    "xgc_gridsearch = GridSearchCV(XGBClassifier(), xgc_params, cv=3, verbose=1, n_jobs=2)\n",
    "\n",
    "xgc_gridsearch = xgc_gridsearch.fit(X_train, y_train_wnv)"
   ]
  },
  {
   "cell_type": "code",
   "execution_count": null,
   "metadata": {},
   "outputs": [],
   "source": [
    "xgc_gridsearch.best_score_"
   ]
  },
  {
   "cell_type": "markdown",
   "metadata": {},
   "source": [
    "0.9475537787930707"
   ]
  },
  {
   "cell_type": "code",
   "execution_count": null,
   "metadata": {},
   "outputs": [],
   "source": [
    "xgc_gridsearch.best_params_"
   ]
  },
  {
   "cell_type": "markdown",
   "metadata": {},
   "source": [
    "{'booster': 'gblinear', 'max_depth': 3, 'n_estimators': 3}"
   ]
  },
  {
   "cell_type": "code",
   "execution_count": null,
   "metadata": {},
   "outputs": [],
   "source": [
    "df_xgc_gs = pd.DataFrame(xgc_gridsearch.cv_results_)\n",
    "df_xgc_gs.to_csv('./data/xgc_gs_score.csv',index=False)"
   ]
  },
  {
   "cell_type": "code",
   "execution_count": null,
   "metadata": {},
   "outputs": [],
   "source": [
    "cleo = xgc_gridsearch.predict(X_test)\n",
    "df_kaggle['WnvPresent'] = cleo\n",
    "df_kaggle.id=df_kaggle.id.apply(int)\n",
    "df_kaggle.to_csv('./data/xgc_kaggel.csv',index=False)"
   ]
  },
  {
   "cell_type": "code",
   "execution_count": null,
   "metadata": {},
   "outputs": [],
   "source": []
  },
  {
   "cell_type": "code",
   "execution_count": null,
   "metadata": {},
   "outputs": [],
   "source": []
  },
  {
   "cell_type": "markdown",
   "metadata": {},
   "source": [
    "Modeling"
   ]
  },
  {
   "cell_type": "code",
   "execution_count": null,
   "metadata": {},
   "outputs": [],
   "source": [
    "train = pd.read_csv('./data/train.csv')\n",
    "test = pd.read_csv('./data/test.csv')"
   ]
  },
  {
   "cell_type": "code",
   "execution_count": null,
   "metadata": {},
   "outputs": [],
   "source": [
    "train.shape"
   ]
  },
  {
   "cell_type": "code",
   "execution_count": null,
   "metadata": {},
   "outputs": [],
   "source": [
    "test.shape"
   ]
  },
  {
   "cell_type": "code",
   "execution_count": null,
   "metadata": {},
   "outputs": [],
   "source": [
    "train.head()"
   ]
  },
  {
   "cell_type": "code",
   "execution_count": null,
   "metadata": {},
   "outputs": [],
   "source": [
    "test.head()"
   ]
  },
  {
   "cell_type": "code",
   "execution_count": null,
   "metadata": {},
   "outputs": [],
   "source": [
    "#throw all object features into a list, except date.\n",
    "obj_list = []\n",
    "for i in train.select_dtypes(include='object').columns:\n",
    "    obj_list.append(i)\n",
    "obj_list.remove(\"date\")"
   ]
  },
  {
   "cell_type": "code",
   "execution_count": null,
   "metadata": {},
   "outputs": [],
   "source": [
    "obj_list"
   ]
  },
  {
   "cell_type": "code",
   "execution_count": null,
   "metadata": {},
   "outputs": [],
   "source": [
    "#ensure both train and test have all categories to prevent mismatched columns when dummying variables\n",
    "for col in obj_list:\n",
    "    train_vals = list(train[col].unique())\n",
    "    test_vals = list(test[col].unique())\n",
    "    total_vals = set(train_vals + test_vals)\n",
    "    train[col] = pd.Categorical(train[col], categories = total_vals)\n",
    "    test[col] = pd.Categorical(test[col], categories = total_vals)"
   ]
  },
  {
   "cell_type": "code",
   "execution_count": null,
   "metadata": {},
   "outputs": [],
   "source": [
    "#dummy variables\n",
    "train = pd.get_dummies(train, columns = obj_list)\n",
    "test = pd.get_dummies(test, columns = obj_list)"
   ]
  },
  {
   "cell_type": "code",
   "execution_count": null,
   "metadata": {},
   "outputs": [],
   "source": [
    "#check to see if the shape looks fine.\n",
    "print(train.shape)\n",
    "print(test.shape)"
   ]
  },
  {
   "cell_type": "code",
   "execution_count": null,
   "metadata": {},
   "outputs": [],
   "source": [
    "features = [x for x in train.columns if x not in [\"nummosquitos\", \"wnvpresent\", \"date\"]]\n",
    "len(features)"
   ]
  },
  {
   "cell_type": "code",
   "execution_count": null,
   "metadata": {},
   "outputs": [],
   "source": [
    "remove = [\"id\", \"date\"]\n",
    "test_features = [x for x in test if x not in remove]\n",
    "len(test_features)"
   ]
  },
  {
   "cell_type": "code",
   "execution_count": null,
   "metadata": {},
   "outputs": [],
   "source": [
    "df_maj = train[train.wnvpresent == 0]\n",
    "df_min = train[train.wnvpresent == 1]"
   ]
  },
  {
   "cell_type": "code",
   "execution_count": null,
   "metadata": {},
   "outputs": [],
   "source": [
    "from sklearn.utils import resample"
   ]
  },
  {
   "cell_type": "code",
   "execution_count": null,
   "metadata": {},
   "outputs": [],
   "source": [
    "df_upsample = resample(df_min, replace=True, n_samples=9000, random_state=42)\n",
    "df_upsample = pd.concat([df_upsample, df_maj])"
   ]
  },
  {
   "cell_type": "code",
   "execution_count": null,
   "metadata": {},
   "outputs": [],
   "source": [
    "df_upsample[\"wnvpresent\"].value_counts(normalize=True)"
   ]
  },
  {
   "cell_type": "code",
   "execution_count": null,
   "metadata": {},
   "outputs": [],
   "source": [
    "X = df_upsample[features]\n",
    "y = df_upsample[\"wnvpresent\"]"
   ]
  },
  {
   "cell_type": "code",
   "execution_count": null,
   "metadata": {},
   "outputs": [],
   "source": [
    "from sklearn.preprocessing import StandardScaler\n",
    "from sklearn.linear_model import LogisticRegression\n",
    "from sklearn.pipeline import Pipeline\n",
    "from sklearn.model_selection import train_test_split, cross_val_score, GridSearchCV\n",
    "from sklearn.ensemble import ExtraTreesClassifier, AdaBoostClassifier\n",
    "from sklearn.naive_bayes import MultinomialNB, GaussianNB"
   ]
  },
  {
   "cell_type": "code",
   "execution_count": null,
   "metadata": {},
   "outputs": [],
   "source": [
    "X_train, X_test, y_train, y_test = train_test_split(X, y, test_size = 0.2, stratify = y)"
   ]
  },
  {
   "cell_type": "markdown",
   "metadata": {},
   "source": [
    "Logistic Regression"
   ]
  },
  {
   "cell_type": "code",
   "execution_count": null,
   "metadata": {},
   "outputs": [],
   "source": [
    "logreg = LogisticRegression()\n",
    "ss = StandardScaler()\n",
    "\n",
    "pipe_logreg = Pipeline([\n",
    "    (\"ss\", ss),\n",
    "    (\"logreg\", logreg)\n",
    "])\n",
    "\n",
    "params = {\n",
    "    \"logreg__penalty\" : [\"l1\", \"l2\"],\n",
    "    \"logreg__C\" : [0.1, 0.5, 1, 5]\n",
    "\n",
    "}\n",
    "\n",
    "gs_logreg = GridSearchCV(pipe_logreg, param_grid=params)\n",
    "gs_logreg.fit(X_train, y_train)\n",
    "\n",
    "print(gs_logreg.best_params_)\n",
    "print(\"CrossValScore\", gs_logreg.best_score_)\n",
    "print(gs_logreg.score(X_test, y_test))"
   ]
  },
  {
   "cell_type": "code",
   "execution_count": null,
   "metadata": {},
   "outputs": [],
   "source": [
    "df_logreg_gs = pd.DataFrame(gs_logreg.cv_results_)\n",
    "df_logreg_gs.to_csv('./data/logreg_gs_scores.csv',index=False)"
   ]
  },
  {
   "cell_type": "code",
   "execution_count": null,
   "metadata": {},
   "outputs": [],
   "source": [
    "ss1 = StandardScaler()\n",
    "test_scaled = ss1.fit_transform(test[test_features])\n",
    "predicts_logreg = gs_logreg.predict(test_scaled)\n",
    "\n",
    "df_logreg_preds = pd.DataFrame()\n",
    "ids_1 = test[\"id\"].astype(int)\n",
    "\n",
    "df_logreg_preds[\"Id\"] = ids_1\n",
    "df_logreg_preds[\"WnvPresent\"] = predicts_logreg\n",
    "df_logreg_preds.set_index(\"Id\", inplace = True)"
   ]
  },
  {
   "cell_type": "code",
   "execution_count": null,
   "metadata": {},
   "outputs": [],
   "source": [
    "#For interpretability\n",
    "logreg1 = LogisticRegression(C = 5, penalty = 'l1')\n",
    "logreg1.fit(X_train,y_train)\n",
    "coefs_df_logreg = pd.DataFrame({'feature': features, 'coef_values': logreg1.coef_[0]})\n",
    "\n",
    "coefs_df_logreg[\"abs_values\"] = coefs_df_logreg[\"coef_values\"].abs()\n",
    "coefs_df_logreg.sort_values(\"abs_values\", ascending = False).head(20)"
   ]
  },
  {
   "cell_type": "code",
   "execution_count": null,
   "metadata": {},
   "outputs": [],
   "source": [
    "logreg_top = coefs_df_logreg.sort_values(\"abs_values\", ascending = False).head(10)\n",
    "\n",
    "plt.style.use('fivethirtyeight')\n",
    "logreg_top.plot(x=\"feature\", y=\"coef_values\", kind=\"barh\", legend=False, title=\"Logistic Regression Top Predictors\")"
   ]
  },
  {
   "cell_type": "code",
   "execution_count": null,
   "metadata": {},
   "outputs": [],
   "source": [
    "# gut check\n",
    "# df_logreg_preds[df_logreg_preds[\"WnvPresent\"] == 1]"
   ]
  },
  {
   "cell_type": "code",
   "execution_count": null,
   "metadata": {},
   "outputs": [],
   "source": [
    "df_logreg_preds.head()"
   ]
  },
  {
   "cell_type": "code",
   "execution_count": null,
   "metadata": {},
   "outputs": [],
   "source": [
    "df_logreg_preds.to_csv(\"./data/predicts_logreg.csv\")"
   ]
  },
  {
   "cell_type": "markdown",
   "metadata": {},
   "source": [
    "Extra Trees"
   ]
  },
  {
   "cell_type": "code",
   "execution_count": null,
   "metadata": {},
   "outputs": [],
   "source": [
    "et = ExtraTreesClassifier()\n",
    "\n",
    "params = {\n",
    "    \"max_depth\" : [5, 10, 20],\n",
    "    \"n_estimators\" : [10, 20, 40]  \n",
    "}\n",
    "\n",
    "gs_et = GridSearchCV(et, param_grid=params)\n",
    "gs_et.fit(X_train, y_train)\n",
    "\n",
    "print(gs_et.best_params_)\n",
    "print(\"CrossValScore\", gs_et.best_score_)\n",
    "print(\"Score: \", gs_et.score(X_test, y_test))"
   ]
  },
  {
   "cell_type": "code",
   "execution_count": null,
   "metadata": {},
   "outputs": [],
   "source": [
    "df_et_gs = pd.DataFrame(gs_et.cv_results_)\n",
    "df_et_gs.to_csv('./data/et_gs_scores.csv',index=False)"
   ]
  },
  {
   "cell_type": "code",
   "execution_count": null,
   "metadata": {},
   "outputs": [],
   "source": [
    "predicts_et = gs_et.predict(test[test_features])\n",
    "\n",
    "df_et_preds = pd.DataFrame()\n",
    "ids_2 = test[\"id\"].astype(int)\n",
    "\n",
    "df_et_preds[\"Id\"] = ids_2\n",
    "df_et_preds[\"WnvPresent\"] = predicts_et\n",
    "df_et_preds.set_index(\"Id\", inplace = True)"
   ]
  },
  {
   "cell_type": "code",
   "execution_count": null,
   "metadata": {},
   "outputs": [],
   "source": [
    "#For interpretability\n",
    "et1 = ExtraTreesClassifier(max_depth=20, n_estimators=20)\n",
    "et1.fit(X_train, y_train)\n",
    "features_df_et = pd.DataFrame({'feature': features, 'feature_importances': et1.feature_importances_})\n",
    "features_df_et.sort_values(\"feature_importances\", ascending = False).head(10)"
   ]
  },
  {
   "cell_type": "code",
   "execution_count": null,
   "metadata": {},
   "outputs": [],
   "source": [
    "et_top = features_df_et.sort_values(\"feature_importances\", ascending = False).head(10)\n",
    "\n",
    "plt.style.use('fivethirtyeight')\n",
    "et_top.plot(x=\"feature\", y=\"feature_importances\", kind=\"barh\", legend=False, title=\"Extra Trees Top Predictors\")"
   ]
  },
  {
   "cell_type": "code",
   "execution_count": null,
   "metadata": {},
   "outputs": [],
   "source": [
    "# gut check\n",
    "# df_et_preds[df_et_preds[\"WnvPresent\"] == 1]"
   ]
  },
  {
   "cell_type": "code",
   "execution_count": null,
   "metadata": {},
   "outputs": [],
   "source": [
    "df_et_preds.head()"
   ]
  },
  {
   "cell_type": "code",
   "execution_count": null,
   "metadata": {},
   "outputs": [],
   "source": [
    "df_et_preds.to_csv(\"./data/predicts_et.csv\")"
   ]
  },
  {
   "cell_type": "markdown",
   "metadata": {},
   "source": [
    "AdaBoost"
   ]
  },
  {
   "cell_type": "code",
   "execution_count": null,
   "metadata": {},
   "outputs": [],
   "source": [
    "ada = AdaBoostClassifier()\n",
    "\n",
    "params = {\n",
    "    \"learning_rate\" : [0.5, 0.6, 0.7],\n",
    "    \"n_estimators\" : [30, 40, 50, 60] \n",
    "}\n",
    "\n",
    "gs_ada = GridSearchCV(ada, param_grid=params)\n",
    "gs_ada.fit(X_train, y_train)\n",
    "\n",
    "print(gs_ada.best_params_)\n",
    "print(\"CrossValScore\", gs_ada.best_score_)\n",
    "print(\"Score: \", gs_ada.score(X_test, y_test))"
   ]
  },
  {
   "cell_type": "code",
   "execution_count": null,
   "metadata": {},
   "outputs": [],
   "source": [
    "df_ada_gs = pd.DataFrame(gs_ada.cv_results_)\n",
    "df_ada_gs.to_csv('./data/ada_gs_scores.csv',index=False)"
   ]
  },
  {
   "cell_type": "code",
   "execution_count": null,
   "metadata": {},
   "outputs": [],
   "source": [
    "predicts_ada = gs_ada.predict(test[test_features])\n",
    "\n",
    "df_ada_preds = pd.DataFrame()\n",
    "ids_3 = test[\"id\"].astype(int)\n",
    "\n",
    "df_ada_preds[\"Id\"] = ids_3\n",
    "df_ada_preds[\"WnvPresent\"] = predicts_ada\n",
    "df_ada_preds.set_index(\"Id\", inplace = True)"
   ]
  },
  {
   "cell_type": "code",
   "execution_count": null,
   "metadata": {},
   "outputs": [],
   "source": [
    "test[\"wnv_predict\"] = predicts_ada"
   ]
  },
  {
   "cell_type": "code",
   "execution_count": null,
   "metadata": {},
   "outputs": [],
   "source": [
    "test.to_csv(\"./data/test_predicts_ada.csv\")"
   ]
  },
  {
   "cell_type": "code",
   "execution_count": null,
   "metadata": {},
   "outputs": [],
   "source": [
    "#For interpretability\n",
    "ada1 = AdaBoostClassifier(learning_rate=0.7, n_estimators=60)\n",
    "ada1.fit(X_train, y_train)\n",
    "features_df_ada = pd.DataFrame({'feature': features, 'feature_importances': ada1.feature_importances_})\n",
    "features_df_ada.sort_values(\"feature_importances\", ascending = False).head(10)"
   ]
  },
  {
   "cell_type": "code",
   "execution_count": null,
   "metadata": {},
   "outputs": [],
   "source": [
    "ada_top = features_df_ada.sort_values(\"feature_importances\", ascending = False).head(10)\n",
    "\n",
    "plt.style.use('fivethirtyeight')\n",
    "ada_top.plot(x=\"feature\", y=\"feature_importances\", kind=\"barh\", legend=False, title=\"AdaBoost Top Predictors\")"
   ]
  },
  {
   "cell_type": "code",
   "execution_count": null,
   "metadata": {},
   "outputs": [],
   "source": [
    "# gut check\n",
    "# df_ada_preds[df_ada_preds[\"WnvPresent\"] == 1]"
   ]
  },
  {
   "cell_type": "code",
   "execution_count": null,
   "metadata": {},
   "outputs": [],
   "source": [
    "df_ada_preds.head()"
   ]
  },
  {
   "cell_type": "code",
   "execution_count": null,
   "metadata": {},
   "outputs": [],
   "source": [
    "df_ada_preds.to_csv(\"./data/predicts_ada.csv\")"
   ]
  },
  {
   "cell_type": "markdown",
   "metadata": {},
   "source": [
    "Naive Bayes - Multinomial"
   ]
  },
  {
   "cell_type": "code",
   "execution_count": null,
   "metadata": {},
   "outputs": [],
   "source": [
    "gausnb = GaussianNB()\n",
    "ss = StandardScaler()\n",
    "\n",
    "pipe_gausnb = Pipeline([\n",
    "    (\"ss\", ss),\n",
    "    (\"gausnb\", gausnb)\n",
    "])\n",
    "\n",
    "\n",
    "pipe_gausnb.fit(X_train, y_train)\n",
    "\n",
    "print(\"CrossValScore\", pipe_gausnb.score(X_train, y_train))\n",
    "print(\"Score: \", pipe_gausnb.score(X_test, y_test))"
   ]
  },
  {
   "cell_type": "code",
   "execution_count": null,
   "metadata": {},
   "outputs": [],
   "source": [
    "predicts_gausnb = pipe_gausnb.predict(test[test_features])\n",
    "\n",
    "df_gausnb_preds = pd.DataFrame()\n",
    "ids_4 = test[\"id\"].astype(int)\n",
    "\n",
    "df_gausnb_preds[\"Id\"] = ids_4\n",
    "df_gausnb_preds[\"WnvPresent\"] = predicts_gausnb\n",
    "df_gausnb_preds.set_index(\"Id\", inplace = True)"
   ]
  },
  {
   "cell_type": "code",
   "execution_count": null,
   "metadata": {},
   "outputs": [],
   "source": [
    "# gut check\n",
    "# df_gausnb_preds[df_gausnb_preds[\"WnvPresent\"] == 1]"
   ]
  },
  {
   "cell_type": "code",
   "execution_count": null,
   "metadata": {},
   "outputs": [],
   "source": [
    "df_gausnb_preds.head()"
   ]
  },
  {
   "cell_type": "code",
   "execution_count": null,
   "metadata": {},
   "outputs": [],
   "source": [
    "df_gausnb_preds.to_csv(\"./data/predicts_gausnb.csv\")"
   ]
  },
  {
   "cell_type": "markdown",
   "metadata": {},
   "source": [
    "Kaggel 0.50000"
   ]
  },
  {
   "cell_type": "markdown",
   "metadata": {},
   "source": [
    "AT this point I was attempting to create a new dataframe for use in a bokeh map that I created. The map was interactive and showed the spread of WNV over the months that we have data for. In the future the goal is to be able to run the bokeh code in the bokeh server using lambda with the AWS. "
   ]
  },
  {
   "cell_type": "code",
   "execution_count": null,
   "metadata": {},
   "outputs": [],
   "source": [
    "test_train.longitude.unique()"
   ]
  },
  {
   "cell_type": "code",
   "execution_count": null,
   "metadata": {},
   "outputs": [],
   "source": [
    "df_graph = pd.read_csv('./data/graph.csv')"
   ]
  },
  {
   "cell_type": "markdown",
   "metadata": {},
   "source": [
    "Getting only the train data. "
   ]
  },
  {
   "cell_type": "code",
   "execution_count": null,
   "metadata": {},
   "outputs": [],
   "source": [
    "df_graph=df_graph[df_graph['wnvpresent'] != -1]"
   ]
  },
  {
   "cell_type": "markdown",
   "metadata": {},
   "source": [
    "Dropping columns that don't have a value to the graph I'm creating"
   ]
  },
  {
   "cell_type": "code",
   "execution_count": null,
   "metadata": {},
   "outputs": [],
   "source": [
    "df_graph.drop(['Unnamed: 0','address','street','addressnumberandstreet','addressaccuracy','lat_int',\n",
    "              'lon_int'],axis = 1, inplace = True)"
   ]
  },
  {
   "cell_type": "code",
   "execution_count": null,
   "metadata": {},
   "outputs": [],
   "source": [
    "df_graph.drop(df_graph.loc[:,'tmax_1':'avgspeed_2'].columns, axis=1, inplace=True)\n"
   ]
  },
  {
   "cell_type": "markdown",
   "metadata": {},
   "source": [
    "Pulling out the year. This is important to iterate in our map."
   ]
  },
  {
   "cell_type": "code",
   "execution_count": null,
   "metadata": {},
   "outputs": [],
   "source": [
    "from datetime import datetime"
   ]
  },
  {
   "cell_type": "code",
   "execution_count": null,
   "metadata": {},
   "outputs": [],
   "source": [
    "def get_year(y):\n",
    "    return y.year"
   ]
  },
  {
   "cell_type": "code",
   "execution_count": null,
   "metadata": {},
   "outputs": [],
   "source": [
    "df_graph.date=pd.to_datetime(df_graph.date, format='%Y-%m-%d')"
   ]
  },
  {
   "cell_type": "code",
   "execution_count": null,
   "metadata": {},
   "outputs": [],
   "source": [
    "df_graph['year'] = df_graph.date.apply(get_year)"
   ]
  },
  {
   "cell_type": "markdown",
   "metadata": {},
   "source": [
    "Summing up WNV present and number of mosquitoes and placing them in a dataframe. Num mosquitoes was to be used if we wanted to display the number of mosquitoes on the map. This was droped because of time."
   ]
  },
  {
   "cell_type": "code",
   "execution_count": null,
   "metadata": {},
   "outputs": [],
   "source": [
    "df_graph2 = pd.DataFrame(df_graph.groupby(['month','year','trap'],as_index=False)['nummosquitos'].sum())"
   ]
  },
  {
   "cell_type": "code",
   "execution_count": null,
   "metadata": {},
   "outputs": [],
   "source": [
    "df_graph2.shape"
   ]
  },
  {
   "cell_type": "code",
   "execution_count": null,
   "metadata": {},
   "outputs": [],
   "source": [
    "df_graph4 = pd.DataFrame(df_graph.groupby(['month','year','trap'],as_index=False)['wnvpresent'].sum())\n",
    "df_graph4.shape"
   ]
  },
  {
   "cell_type": "markdown",
   "metadata": {},
   "source": [
    "Merging in columns that are necessary for the map "
   ]
  },
  {
   "cell_type": "code",
   "execution_count": null,
   "metadata": {},
   "outputs": [],
   "source": [
    "df_graph2['wnvpresent']=df_graph4.wnvpresent\n",
    "df_graph2[df_graph2['wnvpresent']>1].head()"
   ]
  },
  {
   "cell_type": "code",
   "execution_count": null,
   "metadata": {},
   "outputs": [],
   "source": [
    "df_graph4 = pd.DataFrame(df_graph.groupby(['month','year','trap'],as_index=False)['latitude'].min())\n",
    "df_graph4.head()"
   ]
  },
  {
   "cell_type": "code",
   "execution_count": null,
   "metadata": {},
   "outputs": [],
   "source": [
    "df_graph2['latitude']=df_graph4.latitude"
   ]
  },
  {
   "cell_type": "code",
   "execution_count": null,
   "metadata": {},
   "outputs": [],
   "source": [
    "df_graph4 = pd.DataFrame(df_graph.groupby(['month','year','trap'],as_index=False)['longitude'].min())\n",
    "df_graph2['longitude']=df_graph4.longitude\n",
    "df_graph2.head()"
   ]
  },
  {
   "cell_type": "code",
   "execution_count": null,
   "metadata": {},
   "outputs": [],
   "source": [
    "df_graph4 = pd.DataFrame(df_graph.groupby(['month','year','trap'],as_index=False)['species'].apply(lambda x: \"%s\" % ', '.join(x)))\n",
    "df_graph4.reset_index(inplace=True)\n",
    "df_graph4.rename(columns={0:'species'},inplace=True)\n",
    "#df_graph4.head()\n",
    "df_graph2['species']=df_graph4['species']\n",
    "df_graph2.head()"
   ]
  },
  {
   "cell_type": "code",
   "execution_count": null,
   "metadata": {},
   "outputs": [],
   "source": [
    "df_graph2.to_csv('./data/bokeh_monthly.csv',index=False)"
   ]
  },
  {
   "cell_type": "code",
   "execution_count": null,
   "metadata": {},
   "outputs": [],
   "source": [
    "df_bokeh = pd.read_csv('./data/bokeh_monthly.csv')"
   ]
  },
  {
   "cell_type": "code",
   "execution_count": null,
   "metadata": {},
   "outputs": [],
   "source": [
    "df_bokeh.sort_values(by=['year','month'],inplace=True)"
   ]
  },
  {
   "cell_type": "markdown",
   "metadata": {},
   "source": [
    "Creating an index incremented by month. This code was made with the help of Joe Dorfman"
   ]
  },
  {
   "cell_type": "code",
   "execution_count": null,
   "metadata": {},
   "outputs": [],
   "source": [
    "df_bokeh['month_year'] = tuple(zip(df_bokeh['month'], df_bokeh['year']))\n",
    "\n",
    "df_bokeh['month_year'] = df_bokeh['month_year'].factorize()[0]"
   ]
  },
  {
   "cell_type": "code",
   "execution_count": null,
   "metadata": {},
   "outputs": [],
   "source": [
    "df_bokeh.tail(100)"
   ]
  },
  {
   "cell_type": "markdown",
   "metadata": {},
   "source": [
    "Saving the datato a csv"
   ]
  },
  {
   "cell_type": "code",
   "execution_count": null,
   "metadata": {},
   "outputs": [],
   "source": [
    "df_bokeh.to_csv('./data/bokeh_monthly2.csv',index=False)"
   ]
  },
  {
   "cell_type": "code",
   "execution_count": null,
   "metadata": {},
   "outputs": [],
   "source": [
    "df_bokeh = pd.read_csv('./data/bokeh_monthly2.csv')"
   ]
  },
  {
   "cell_type": "markdown",
   "metadata": {},
   "source": [
    "This is old code for the brokeh map."
   ]
  },
  {
   "cell_type": "code",
   "execution_count": null,
   "metadata": {},
   "outputs": [],
   "source": [
    "from bokeh.io import output_notebook, show\n",
    "output_notebook()\n",
    "import os\n",
    "from ipywidgets import interact\n",
    "from bokeh.models import GMapOptions\n",
    "from bokeh.plotting import gmap\n",
    "from bokeh.models import ColumnDataSource\n",
    "from bokeh.models import HoverTool\n",
    "from bokeh.models import LinearInterpolator, CategoricalColorMapper,LinearColorMapper\n",
    "from bokeh.layouts import widgetbox\n",
    "from bokeh.models.widgets import Slider\n",
    "from bokeh.palettes import PuBu, Oranges\n",
    "\n",
    "size_mapper = LinearInterpolator(x=[df_bokeh.wnvpresent.min(),df_bokeh.wnvpresent.max()],\n",
    "                                y=[5,50])\n",
    "\n",
    "color_mapper = LinearColorMapper(palette=Oranges[9],\n",
    "                                 high=df_bokeh.wnvpresent.min(),\n",
    "                                 low=df_bokeh.wnvpresent.max())\n",
    "\n",
    "from ipywidgets import interact\n",
    "from bokeh.io import push_notebook\n",
    "#data1=ColumnDataSource(df_bokeh)\n",
    "\n",
    "    #print('?')\n",
    "    \n",
    "#interact(update, m=(0,19,1))\n",
    "\n",
    "map_options = GMapOptions(lat=41.881832, lng=-87.623177, map_type=\"roadmap\", zoom=10)\n",
    "\n",
    "# Replace the value below with your personal API key:\n",
    "api_key = \"Add Personal Googel API\"\n",
    "\n",
    "\n",
    "hover = HoverTool(\n",
    "        tooltips=[\n",
    "            (\"Trap\",'@trap'),\n",
    "            (\"Species\",'@species'),\n",
    "            (\"Coordinates\", \"(@latitude{0.0000}, @longitude{0.0000})\"),\n",
    "        ]\n",
    "    )\n",
    "\n",
    "p = gmap(api_key, map_options, title=\"Chicago - West Nile Outbreak\")\n",
    "\n",
    "p.toolbar.active_inspect = [hover]\n",
    "\n",
    "#data1=ColumnDataSource(df_bokeh)\n",
    "\n",
    "data = dict(lat=df_bokeh.latitude.unique(),\n",
    "            lon=df_bokeh.longitude.unique(),\n",
    "            trap=df_bokeh.trap.unique(),\n",
    "            species=df_bokeh.species)\n",
    "\n",
    "#source=df_bokeh[df_bokeh.month_year==0]\n",
    "source=df_bokeh\n",
    "\n",
    "r = p.circle(x='longitude', y='latitude',\n",
    "         size={'field':'wnvpresent','transform':size_mapper},\n",
    "         fill_color={'field':'wnvpresent','transform':color_mapper},\n",
    "         fill_alpha=0.6,\n",
    "         source = df_bokeh[df_bokeh.month_year==5])\n",
    "#p.circle(x=\"lon\", y=\"lat\", size=10, fill_color=\"blue\", fill_alpha=0.6, source=data)\n",
    "p.add_tools(hover)\n",
    "#p.below=show(widgetbox(slider))\n",
    "#show(widgetbox(slider))\n",
    "\n",
    "#show(p,notebook_handle=True)\n",
    "\n",
    "def update(m):\n",
    "    #data = dict(lat=df_bokeh.loc[month_year].latitude,\n",
    "    #        lon=df_bokeh.loc[month_year].longitude,\n",
    "    #        trap=df_bokeh.loc[month_year].trap,\n",
    "    #        species=df_bokeh.loc[month_year].species)\n",
    "    #data1.data = data\n",
    "    r.data_source.data['longitude']=df_bokeh[df_bokeh.month_year==m]['longitude']\n",
    "    r.data_source.data['latitude']=df_bokeh[df_bokeh.month_year==m]['latitude']\n",
    "    r.data_source.data['wnvpresent']=df_bokeh[df_bokeh.month_year==m]['wnvpresent']\n",
    "    r.update\n",
    "    hover = HoverTool(\n",
    "        tooltips=[\n",
    "            (\"Trap\",'@trap'),\n",
    "            (\"Species\",'@species'),\n",
    "            (\"Coordinates\", \"(@latitude{0.0000}, @longitude{0.0000})\"),\n",
    "        ]\n",
    "    )\n",
    "    #p.add_tools(hover)\n",
    "    \n",
    "    #hover.update\n",
    "    #print(m)\n",
    "    #p.title.text=\"Chicago - West Nile Outbreak {}\".format\n",
    "    push_notebook()\n",
    "    \n",
    "interact(update, m=(0,19,1))\n",
    "    \n",
    "show(p,notebook_handle=True)"
   ]
  },
  {
   "cell_type": "markdown",
   "metadata": {},
   "source": [
    "Attempted to move the map to an html file. It brought over images of the map but did not keep the interactive portion."
   ]
  },
  {
   "cell_type": "code",
   "execution_count": null,
   "metadata": {},
   "outputs": [],
   "source": [
    "from bokeh.plotting import figure\n",
    "from bokeh.resources import CDN\n",
    "from bokeh.embed import file_html"
   ]
  },
  {
   "cell_type": "code",
   "execution_count": null,
   "metadata": {},
   "outputs": [],
   "source": [
    "html = file_html(p, CDN, \"my plot\")"
   ]
  },
  {
   "cell_type": "code",
   "execution_count": null,
   "metadata": {},
   "outputs": [],
   "source": [
    "Html_file= open(\"bokeh.html\",\"w\")\n",
    "Html_file.write(html)\n",
    "Html_file.close()\n",
    "\n",
    "\n",
    "html"
   ]
  },
  {
   "cell_type": "code",
   "execution_count": null,
   "metadata": {},
   "outputs": [],
   "source": [
    " hover.tooltips[0][1]"
   ]
  },
  {
   "cell_type": "code",
   "execution_count": null,
   "metadata": {},
   "outputs": [],
   "source": [
    "df_bokeh[df_bokeh.month_year==3]"
   ]
  },
  {
   "cell_type": "code",
   "execution_count": null,
   "metadata": {},
   "outputs": [],
   "source": []
  }
 ],
 "metadata": {
  "kernelspec": {
   "display_name": "Python 3",
   "language": "python",
   "name": "python3"
  },
  "language_info": {
   "codemirror_mode": {
    "name": "ipython",
    "version": 3
   },
   "file_extension": ".py",
   "mimetype": "text/x-python",
   "name": "python",
   "nbconvert_exporter": "python",
   "pygments_lexer": "ipython3",
   "version": "3.6.5"
  }
 },
 "nbformat": 4,
 "nbformat_minor": 2
}
